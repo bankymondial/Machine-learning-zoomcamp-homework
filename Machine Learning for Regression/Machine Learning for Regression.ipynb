{
 "cells": [
  {
   "cell_type": "markdown",
   "id": "2af0016b-bc0e-40b9-935d-4f490d4b8717",
   "metadata": {},
   "source": [
    "# Machine Learning for Regression\n",
    "\n",
    "## 1. Data Preparation for a `car sales` data"
   ]
  },
  {
   "cell_type": "code",
   "execution_count": 1,
   "id": "7732f471-a5ae-4036-aad9-f1f5f33d46b8",
   "metadata": {},
   "outputs": [],
   "source": [
    "import pandas as pd\n",
    "import numpy as np"
   ]
  },
  {
   "cell_type": "code",
   "execution_count": null,
   "id": "26c6cba5-bbff-457c-a119-545243788824",
   "metadata": {},
   "outputs": [],
   "source": []
  },
  {
   "cell_type": "markdown",
   "id": "fdeec062-3e19-4520-a6c4-b6d034bf342f",
   "metadata": {},
   "source": [
    "### Get data"
   ]
  },
  {
   "cell_type": "code",
   "execution_count": 2,
   "id": "d7d88804-02b9-45dc-a03c-9209f0fc889c",
   "metadata": {},
   "outputs": [],
   "source": [
    "car = pd.read_csv('https://raw.githubusercontent.com/bankymondial/mlbookcamp-code/refs/heads/master/chapter-02-car-price/data.csv')"
   ]
  },
  {
   "cell_type": "code",
   "execution_count": 3,
   "id": "3bd196cb-d771-4594-9840-0ee6cc2f16b2",
   "metadata": {},
   "outputs": [
    {
     "data": {
      "text/html": [
       "<div>\n",
       "<style scoped>\n",
       "    .dataframe tbody tr th:only-of-type {\n",
       "        vertical-align: middle;\n",
       "    }\n",
       "\n",
       "    .dataframe tbody tr th {\n",
       "        vertical-align: top;\n",
       "    }\n",
       "\n",
       "    .dataframe thead th {\n",
       "        text-align: right;\n",
       "    }\n",
       "</style>\n",
       "<table border=\"1\" class=\"dataframe\">\n",
       "  <thead>\n",
       "    <tr style=\"text-align: right;\">\n",
       "      <th></th>\n",
       "      <th>Make</th>\n",
       "      <th>Model</th>\n",
       "      <th>Year</th>\n",
       "      <th>Engine Fuel Type</th>\n",
       "      <th>Engine HP</th>\n",
       "      <th>Engine Cylinders</th>\n",
       "      <th>Transmission Type</th>\n",
       "      <th>Driven_Wheels</th>\n",
       "      <th>Number of Doors</th>\n",
       "      <th>Market Category</th>\n",
       "      <th>Vehicle Size</th>\n",
       "      <th>Vehicle Style</th>\n",
       "      <th>highway MPG</th>\n",
       "      <th>city mpg</th>\n",
       "      <th>Popularity</th>\n",
       "      <th>MSRP</th>\n",
       "    </tr>\n",
       "  </thead>\n",
       "  <tbody>\n",
       "    <tr>\n",
       "      <th>0</th>\n",
       "      <td>BMW</td>\n",
       "      <td>1 Series M</td>\n",
       "      <td>2011</td>\n",
       "      <td>premium unleaded (required)</td>\n",
       "      <td>335.0</td>\n",
       "      <td>6.0</td>\n",
       "      <td>MANUAL</td>\n",
       "      <td>rear wheel drive</td>\n",
       "      <td>2.0</td>\n",
       "      <td>Factory Tuner,Luxury,High-Performance</td>\n",
       "      <td>Compact</td>\n",
       "      <td>Coupe</td>\n",
       "      <td>26</td>\n",
       "      <td>19</td>\n",
       "      <td>3916</td>\n",
       "      <td>46135</td>\n",
       "    </tr>\n",
       "    <tr>\n",
       "      <th>1</th>\n",
       "      <td>BMW</td>\n",
       "      <td>1 Series</td>\n",
       "      <td>2011</td>\n",
       "      <td>premium unleaded (required)</td>\n",
       "      <td>300.0</td>\n",
       "      <td>6.0</td>\n",
       "      <td>MANUAL</td>\n",
       "      <td>rear wheel drive</td>\n",
       "      <td>2.0</td>\n",
       "      <td>Luxury,Performance</td>\n",
       "      <td>Compact</td>\n",
       "      <td>Convertible</td>\n",
       "      <td>28</td>\n",
       "      <td>19</td>\n",
       "      <td>3916</td>\n",
       "      <td>40650</td>\n",
       "    </tr>\n",
       "    <tr>\n",
       "      <th>2</th>\n",
       "      <td>BMW</td>\n",
       "      <td>1 Series</td>\n",
       "      <td>2011</td>\n",
       "      <td>premium unleaded (required)</td>\n",
       "      <td>300.0</td>\n",
       "      <td>6.0</td>\n",
       "      <td>MANUAL</td>\n",
       "      <td>rear wheel drive</td>\n",
       "      <td>2.0</td>\n",
       "      <td>Luxury,High-Performance</td>\n",
       "      <td>Compact</td>\n",
       "      <td>Coupe</td>\n",
       "      <td>28</td>\n",
       "      <td>20</td>\n",
       "      <td>3916</td>\n",
       "      <td>36350</td>\n",
       "    </tr>\n",
       "    <tr>\n",
       "      <th>3</th>\n",
       "      <td>BMW</td>\n",
       "      <td>1 Series</td>\n",
       "      <td>2011</td>\n",
       "      <td>premium unleaded (required)</td>\n",
       "      <td>230.0</td>\n",
       "      <td>6.0</td>\n",
       "      <td>MANUAL</td>\n",
       "      <td>rear wheel drive</td>\n",
       "      <td>2.0</td>\n",
       "      <td>Luxury,Performance</td>\n",
       "      <td>Compact</td>\n",
       "      <td>Coupe</td>\n",
       "      <td>28</td>\n",
       "      <td>18</td>\n",
       "      <td>3916</td>\n",
       "      <td>29450</td>\n",
       "    </tr>\n",
       "    <tr>\n",
       "      <th>4</th>\n",
       "      <td>BMW</td>\n",
       "      <td>1 Series</td>\n",
       "      <td>2011</td>\n",
       "      <td>premium unleaded (required)</td>\n",
       "      <td>230.0</td>\n",
       "      <td>6.0</td>\n",
       "      <td>MANUAL</td>\n",
       "      <td>rear wheel drive</td>\n",
       "      <td>2.0</td>\n",
       "      <td>Luxury</td>\n",
       "      <td>Compact</td>\n",
       "      <td>Convertible</td>\n",
       "      <td>28</td>\n",
       "      <td>18</td>\n",
       "      <td>3916</td>\n",
       "      <td>34500</td>\n",
       "    </tr>\n",
       "  </tbody>\n",
       "</table>\n",
       "</div>"
      ],
      "text/plain": [
       "  Make       Model  Year             Engine Fuel Type  Engine HP  \\\n",
       "0  BMW  1 Series M  2011  premium unleaded (required)      335.0   \n",
       "1  BMW    1 Series  2011  premium unleaded (required)      300.0   \n",
       "2  BMW    1 Series  2011  premium unleaded (required)      300.0   \n",
       "3  BMW    1 Series  2011  premium unleaded (required)      230.0   \n",
       "4  BMW    1 Series  2011  premium unleaded (required)      230.0   \n",
       "\n",
       "   Engine Cylinders Transmission Type     Driven_Wheels  Number of Doors  \\\n",
       "0               6.0            MANUAL  rear wheel drive              2.0   \n",
       "1               6.0            MANUAL  rear wheel drive              2.0   \n",
       "2               6.0            MANUAL  rear wheel drive              2.0   \n",
       "3               6.0            MANUAL  rear wheel drive              2.0   \n",
       "4               6.0            MANUAL  rear wheel drive              2.0   \n",
       "\n",
       "                         Market Category Vehicle Size Vehicle Style  \\\n",
       "0  Factory Tuner,Luxury,High-Performance      Compact         Coupe   \n",
       "1                     Luxury,Performance      Compact   Convertible   \n",
       "2                Luxury,High-Performance      Compact         Coupe   \n",
       "3                     Luxury,Performance      Compact         Coupe   \n",
       "4                                 Luxury      Compact   Convertible   \n",
       "\n",
       "   highway MPG  city mpg  Popularity   MSRP  \n",
       "0           26        19        3916  46135  \n",
       "1           28        19        3916  40650  \n",
       "2           28        20        3916  36350  \n",
       "3           28        18        3916  29450  \n",
       "4           28        18        3916  34500  "
      ]
     },
     "execution_count": 3,
     "metadata": {},
     "output_type": "execute_result"
    }
   ],
   "source": [
    "car.head()"
   ]
  },
  {
   "cell_type": "code",
   "execution_count": null,
   "id": "d44a813a-f12d-4c98-9406-9dc1a65d65f0",
   "metadata": {},
   "outputs": [],
   "source": []
  },
  {
   "cell_type": "markdown",
   "id": "f872abe2-cf74-4278-b671-ebbf1767df91",
   "metadata": {},
   "source": [
    "#### Making column names consistent by changing the including `_` and changing `upper` to `lower` case.\n"
   ]
  },
  {
   "cell_type": "code",
   "execution_count": 4,
   "id": "2c12d7f5-26d4-489a-99e1-52c227146856",
   "metadata": {},
   "outputs": [
    {
     "data": {
      "text/plain": [
       "Index(['Make', 'Model', 'Year', 'Engine Fuel Type', 'Engine HP',\n",
       "       'Engine Cylinders', 'Transmission Type', 'Driven_Wheels',\n",
       "       'Number of Doors', 'Market Category', 'Vehicle Size', 'Vehicle Style',\n",
       "       'highway MPG', 'city mpg', 'Popularity', 'MSRP'],\n",
       "      dtype='object')"
      ]
     },
     "execution_count": 4,
     "metadata": {},
     "output_type": "execute_result"
    }
   ],
   "source": [
    "car.columns"
   ]
  },
  {
   "cell_type": "code",
   "execution_count": 5,
   "id": "f79f7b7e-fa8b-4717-bdc9-dfc059a7934e",
   "metadata": {},
   "outputs": [],
   "source": [
    "car.columns = car.columns.str.lower().str.replace(' ', '_')"
   ]
  },
  {
   "cell_type": "code",
   "execution_count": 6,
   "id": "367d184f-d13e-4081-8cbd-17fc9cd92476",
   "metadata": {},
   "outputs": [
    {
     "data": {
      "text/html": [
       "<div>\n",
       "<style scoped>\n",
       "    .dataframe tbody tr th:only-of-type {\n",
       "        vertical-align: middle;\n",
       "    }\n",
       "\n",
       "    .dataframe tbody tr th {\n",
       "        vertical-align: top;\n",
       "    }\n",
       "\n",
       "    .dataframe thead th {\n",
       "        text-align: right;\n",
       "    }\n",
       "</style>\n",
       "<table border=\"1\" class=\"dataframe\">\n",
       "  <thead>\n",
       "    <tr style=\"text-align: right;\">\n",
       "      <th></th>\n",
       "      <th>make</th>\n",
       "      <th>model</th>\n",
       "      <th>year</th>\n",
       "      <th>engine_fuel_type</th>\n",
       "      <th>engine_hp</th>\n",
       "      <th>engine_cylinders</th>\n",
       "      <th>transmission_type</th>\n",
       "      <th>driven_wheels</th>\n",
       "      <th>number_of_doors</th>\n",
       "      <th>market_category</th>\n",
       "      <th>vehicle_size</th>\n",
       "      <th>vehicle_style</th>\n",
       "      <th>highway_mpg</th>\n",
       "      <th>city_mpg</th>\n",
       "      <th>popularity</th>\n",
       "      <th>msrp</th>\n",
       "    </tr>\n",
       "  </thead>\n",
       "  <tbody>\n",
       "    <tr>\n",
       "      <th>0</th>\n",
       "      <td>BMW</td>\n",
       "      <td>1 Series M</td>\n",
       "      <td>2011</td>\n",
       "      <td>premium unleaded (required)</td>\n",
       "      <td>335.0</td>\n",
       "      <td>6.0</td>\n",
       "      <td>MANUAL</td>\n",
       "      <td>rear wheel drive</td>\n",
       "      <td>2.0</td>\n",
       "      <td>Factory Tuner,Luxury,High-Performance</td>\n",
       "      <td>Compact</td>\n",
       "      <td>Coupe</td>\n",
       "      <td>26</td>\n",
       "      <td>19</td>\n",
       "      <td>3916</td>\n",
       "      <td>46135</td>\n",
       "    </tr>\n",
       "    <tr>\n",
       "      <th>1</th>\n",
       "      <td>BMW</td>\n",
       "      <td>1 Series</td>\n",
       "      <td>2011</td>\n",
       "      <td>premium unleaded (required)</td>\n",
       "      <td>300.0</td>\n",
       "      <td>6.0</td>\n",
       "      <td>MANUAL</td>\n",
       "      <td>rear wheel drive</td>\n",
       "      <td>2.0</td>\n",
       "      <td>Luxury,Performance</td>\n",
       "      <td>Compact</td>\n",
       "      <td>Convertible</td>\n",
       "      <td>28</td>\n",
       "      <td>19</td>\n",
       "      <td>3916</td>\n",
       "      <td>40650</td>\n",
       "    </tr>\n",
       "    <tr>\n",
       "      <th>2</th>\n",
       "      <td>BMW</td>\n",
       "      <td>1 Series</td>\n",
       "      <td>2011</td>\n",
       "      <td>premium unleaded (required)</td>\n",
       "      <td>300.0</td>\n",
       "      <td>6.0</td>\n",
       "      <td>MANUAL</td>\n",
       "      <td>rear wheel drive</td>\n",
       "      <td>2.0</td>\n",
       "      <td>Luxury,High-Performance</td>\n",
       "      <td>Compact</td>\n",
       "      <td>Coupe</td>\n",
       "      <td>28</td>\n",
       "      <td>20</td>\n",
       "      <td>3916</td>\n",
       "      <td>36350</td>\n",
       "    </tr>\n",
       "    <tr>\n",
       "      <th>3</th>\n",
       "      <td>BMW</td>\n",
       "      <td>1 Series</td>\n",
       "      <td>2011</td>\n",
       "      <td>premium unleaded (required)</td>\n",
       "      <td>230.0</td>\n",
       "      <td>6.0</td>\n",
       "      <td>MANUAL</td>\n",
       "      <td>rear wheel drive</td>\n",
       "      <td>2.0</td>\n",
       "      <td>Luxury,Performance</td>\n",
       "      <td>Compact</td>\n",
       "      <td>Coupe</td>\n",
       "      <td>28</td>\n",
       "      <td>18</td>\n",
       "      <td>3916</td>\n",
       "      <td>29450</td>\n",
       "    </tr>\n",
       "    <tr>\n",
       "      <th>4</th>\n",
       "      <td>BMW</td>\n",
       "      <td>1 Series</td>\n",
       "      <td>2011</td>\n",
       "      <td>premium unleaded (required)</td>\n",
       "      <td>230.0</td>\n",
       "      <td>6.0</td>\n",
       "      <td>MANUAL</td>\n",
       "      <td>rear wheel drive</td>\n",
       "      <td>2.0</td>\n",
       "      <td>Luxury</td>\n",
       "      <td>Compact</td>\n",
       "      <td>Convertible</td>\n",
       "      <td>28</td>\n",
       "      <td>18</td>\n",
       "      <td>3916</td>\n",
       "      <td>34500</td>\n",
       "    </tr>\n",
       "  </tbody>\n",
       "</table>\n",
       "</div>"
      ],
      "text/plain": [
       "  make       model  year             engine_fuel_type  engine_hp  \\\n",
       "0  BMW  1 Series M  2011  premium unleaded (required)      335.0   \n",
       "1  BMW    1 Series  2011  premium unleaded (required)      300.0   \n",
       "2  BMW    1 Series  2011  premium unleaded (required)      300.0   \n",
       "3  BMW    1 Series  2011  premium unleaded (required)      230.0   \n",
       "4  BMW    1 Series  2011  premium unleaded (required)      230.0   \n",
       "\n",
       "   engine_cylinders transmission_type     driven_wheels  number_of_doors  \\\n",
       "0               6.0            MANUAL  rear wheel drive              2.0   \n",
       "1               6.0            MANUAL  rear wheel drive              2.0   \n",
       "2               6.0            MANUAL  rear wheel drive              2.0   \n",
       "3               6.0            MANUAL  rear wheel drive              2.0   \n",
       "4               6.0            MANUAL  rear wheel drive              2.0   \n",
       "\n",
       "                         market_category vehicle_size vehicle_style  \\\n",
       "0  Factory Tuner,Luxury,High-Performance      Compact         Coupe   \n",
       "1                     Luxury,Performance      Compact   Convertible   \n",
       "2                Luxury,High-Performance      Compact         Coupe   \n",
       "3                     Luxury,Performance      Compact         Coupe   \n",
       "4                                 Luxury      Compact   Convertible   \n",
       "\n",
       "   highway_mpg  city_mpg  popularity   msrp  \n",
       "0           26        19        3916  46135  \n",
       "1           28        19        3916  40650  \n",
       "2           28        20        3916  36350  \n",
       "3           28        18        3916  29450  \n",
       "4           28        18        3916  34500  "
      ]
     },
     "execution_count": 6,
     "metadata": {},
     "output_type": "execute_result"
    }
   ],
   "source": [
    "car.head()"
   ]
  },
  {
   "cell_type": "code",
   "execution_count": null,
   "id": "624c9ccd-4a6c-4439-8889-f197f4402cc2",
   "metadata": {},
   "outputs": [],
   "source": []
  },
  {
   "cell_type": "markdown",
   "id": "bda9f939-7ad9-48f3-821e-4db072f89fd0",
   "metadata": {},
   "source": [
    "#### Using `dtypes` to find string columns (object types), and then standardizing the values"
   ]
  },
  {
   "cell_type": "code",
   "execution_count": 7,
   "id": "1edf7009-c622-41c7-ac6d-1c9b51a94d77",
   "metadata": {},
   "outputs": [
    {
     "data": {
      "text/plain": [
       "make                 object\n",
       "model                object\n",
       "engine_fuel_type     object\n",
       "transmission_type    object\n",
       "driven_wheels        object\n",
       "market_category      object\n",
       "vehicle_size         object\n",
       "vehicle_style        object\n",
       "dtype: object"
      ]
     },
     "execution_count": 7,
     "metadata": {},
     "output_type": "execute_result"
    }
   ],
   "source": [
    "car.dtypes[car.dtypes == 'object']"
   ]
  },
  {
   "cell_type": "code",
   "execution_count": 8,
   "id": "97027faf-d3d2-4863-a94b-349ae5421ae4",
   "metadata": {},
   "outputs": [
    {
     "data": {
      "text/plain": [
       "Index(['make', 'model', 'engine_fuel_type', 'transmission_type',\n",
       "       'driven_wheels', 'market_category', 'vehicle_size', 'vehicle_style'],\n",
       "      dtype='object')"
      ]
     },
     "execution_count": 8,
     "metadata": {},
     "output_type": "execute_result"
    }
   ],
   "source": [
    "car.dtypes[car.dtypes == 'object'].index"
   ]
  },
  {
   "cell_type": "code",
   "execution_count": 9,
   "id": "9f229c4b-cfe8-4d5f-ba4c-48aa55ace289",
   "metadata": {},
   "outputs": [
    {
     "data": {
      "text/plain": [
       "['make',\n",
       " 'model',\n",
       " 'engine_fuel_type',\n",
       " 'transmission_type',\n",
       " 'driven_wheels',\n",
       " 'market_category',\n",
       " 'vehicle_size',\n",
       " 'vehicle_style']"
      ]
     },
     "execution_count": 9,
     "metadata": {},
     "output_type": "execute_result"
    }
   ],
   "source": [
    "strings = list(car.dtypes[car.dtypes == 'object'].index)\n",
    "strings"
   ]
  },
  {
   "cell_type": "code",
   "execution_count": null,
   "id": "da0706e1-df6d-4565-ad2f-79922bcfe002",
   "metadata": {},
   "outputs": [],
   "source": []
  },
  {
   "cell_type": "markdown",
   "id": "066a7e16-9b98-4810-973c-f19ba14b8345",
   "metadata": {},
   "source": [
    "#### Loop over strings to perform the same action that was done on the column titles"
   ]
  },
  {
   "cell_type": "code",
   "execution_count": 10,
   "id": "ee6bfdf7-99db-440f-baed-7b0946ed5aa4",
   "metadata": {},
   "outputs": [],
   "source": [
    "for col in strings:\n",
    "    car[col] = car[col].str.lower().str.replace(' ', '_')"
   ]
  },
  {
   "cell_type": "code",
   "execution_count": 11,
   "id": "d6d1dcfb-4bc5-4555-bec2-48a7532a4fb0",
   "metadata": {},
   "outputs": [
    {
     "data": {
      "text/html": [
       "<div>\n",
       "<style scoped>\n",
       "    .dataframe tbody tr th:only-of-type {\n",
       "        vertical-align: middle;\n",
       "    }\n",
       "\n",
       "    .dataframe tbody tr th {\n",
       "        vertical-align: top;\n",
       "    }\n",
       "\n",
       "    .dataframe thead th {\n",
       "        text-align: right;\n",
       "    }\n",
       "</style>\n",
       "<table border=\"1\" class=\"dataframe\">\n",
       "  <thead>\n",
       "    <tr style=\"text-align: right;\">\n",
       "      <th></th>\n",
       "      <th>make</th>\n",
       "      <th>model</th>\n",
       "      <th>year</th>\n",
       "      <th>engine_fuel_type</th>\n",
       "      <th>engine_hp</th>\n",
       "      <th>engine_cylinders</th>\n",
       "      <th>transmission_type</th>\n",
       "      <th>driven_wheels</th>\n",
       "      <th>number_of_doors</th>\n",
       "      <th>market_category</th>\n",
       "      <th>vehicle_size</th>\n",
       "      <th>vehicle_style</th>\n",
       "      <th>highway_mpg</th>\n",
       "      <th>city_mpg</th>\n",
       "      <th>popularity</th>\n",
       "      <th>msrp</th>\n",
       "    </tr>\n",
       "  </thead>\n",
       "  <tbody>\n",
       "    <tr>\n",
       "      <th>0</th>\n",
       "      <td>bmw</td>\n",
       "      <td>1_series_m</td>\n",
       "      <td>2011</td>\n",
       "      <td>premium_unleaded_(required)</td>\n",
       "      <td>335.0</td>\n",
       "      <td>6.0</td>\n",
       "      <td>manual</td>\n",
       "      <td>rear_wheel_drive</td>\n",
       "      <td>2.0</td>\n",
       "      <td>factory_tuner,luxury,high-performance</td>\n",
       "      <td>compact</td>\n",
       "      <td>coupe</td>\n",
       "      <td>26</td>\n",
       "      <td>19</td>\n",
       "      <td>3916</td>\n",
       "      <td>46135</td>\n",
       "    </tr>\n",
       "    <tr>\n",
       "      <th>1</th>\n",
       "      <td>bmw</td>\n",
       "      <td>1_series</td>\n",
       "      <td>2011</td>\n",
       "      <td>premium_unleaded_(required)</td>\n",
       "      <td>300.0</td>\n",
       "      <td>6.0</td>\n",
       "      <td>manual</td>\n",
       "      <td>rear_wheel_drive</td>\n",
       "      <td>2.0</td>\n",
       "      <td>luxury,performance</td>\n",
       "      <td>compact</td>\n",
       "      <td>convertible</td>\n",
       "      <td>28</td>\n",
       "      <td>19</td>\n",
       "      <td>3916</td>\n",
       "      <td>40650</td>\n",
       "    </tr>\n",
       "    <tr>\n",
       "      <th>2</th>\n",
       "      <td>bmw</td>\n",
       "      <td>1_series</td>\n",
       "      <td>2011</td>\n",
       "      <td>premium_unleaded_(required)</td>\n",
       "      <td>300.0</td>\n",
       "      <td>6.0</td>\n",
       "      <td>manual</td>\n",
       "      <td>rear_wheel_drive</td>\n",
       "      <td>2.0</td>\n",
       "      <td>luxury,high-performance</td>\n",
       "      <td>compact</td>\n",
       "      <td>coupe</td>\n",
       "      <td>28</td>\n",
       "      <td>20</td>\n",
       "      <td>3916</td>\n",
       "      <td>36350</td>\n",
       "    </tr>\n",
       "    <tr>\n",
       "      <th>3</th>\n",
       "      <td>bmw</td>\n",
       "      <td>1_series</td>\n",
       "      <td>2011</td>\n",
       "      <td>premium_unleaded_(required)</td>\n",
       "      <td>230.0</td>\n",
       "      <td>6.0</td>\n",
       "      <td>manual</td>\n",
       "      <td>rear_wheel_drive</td>\n",
       "      <td>2.0</td>\n",
       "      <td>luxury,performance</td>\n",
       "      <td>compact</td>\n",
       "      <td>coupe</td>\n",
       "      <td>28</td>\n",
       "      <td>18</td>\n",
       "      <td>3916</td>\n",
       "      <td>29450</td>\n",
       "    </tr>\n",
       "    <tr>\n",
       "      <th>4</th>\n",
       "      <td>bmw</td>\n",
       "      <td>1_series</td>\n",
       "      <td>2011</td>\n",
       "      <td>premium_unleaded_(required)</td>\n",
       "      <td>230.0</td>\n",
       "      <td>6.0</td>\n",
       "      <td>manual</td>\n",
       "      <td>rear_wheel_drive</td>\n",
       "      <td>2.0</td>\n",
       "      <td>luxury</td>\n",
       "      <td>compact</td>\n",
       "      <td>convertible</td>\n",
       "      <td>28</td>\n",
       "      <td>18</td>\n",
       "      <td>3916</td>\n",
       "      <td>34500</td>\n",
       "    </tr>\n",
       "  </tbody>\n",
       "</table>\n",
       "</div>"
      ],
      "text/plain": [
       "  make       model  year             engine_fuel_type  engine_hp  \\\n",
       "0  bmw  1_series_m  2011  premium_unleaded_(required)      335.0   \n",
       "1  bmw    1_series  2011  premium_unleaded_(required)      300.0   \n",
       "2  bmw    1_series  2011  premium_unleaded_(required)      300.0   \n",
       "3  bmw    1_series  2011  premium_unleaded_(required)      230.0   \n",
       "4  bmw    1_series  2011  premium_unleaded_(required)      230.0   \n",
       "\n",
       "   engine_cylinders transmission_type     driven_wheels  number_of_doors  \\\n",
       "0               6.0            manual  rear_wheel_drive              2.0   \n",
       "1               6.0            manual  rear_wheel_drive              2.0   \n",
       "2               6.0            manual  rear_wheel_drive              2.0   \n",
       "3               6.0            manual  rear_wheel_drive              2.0   \n",
       "4               6.0            manual  rear_wheel_drive              2.0   \n",
       "\n",
       "                         market_category vehicle_size vehicle_style  \\\n",
       "0  factory_tuner,luxury,high-performance      compact         coupe   \n",
       "1                     luxury,performance      compact   convertible   \n",
       "2                luxury,high-performance      compact         coupe   \n",
       "3                     luxury,performance      compact         coupe   \n",
       "4                                 luxury      compact   convertible   \n",
       "\n",
       "   highway_mpg  city_mpg  popularity   msrp  \n",
       "0           26        19        3916  46135  \n",
       "1           28        19        3916  40650  \n",
       "2           28        20        3916  36350  \n",
       "3           28        18        3916  29450  \n",
       "4           28        18        3916  34500  "
      ]
     },
     "execution_count": 11,
     "metadata": {},
     "output_type": "execute_result"
    }
   ],
   "source": [
    "car.head()"
   ]
  },
  {
   "cell_type": "code",
   "execution_count": 12,
   "id": "e7f9c38d-de4b-4aca-af07-245b78535c31",
   "metadata": {},
   "outputs": [
    {
     "data": {
      "text/plain": [
       "make                  object\n",
       "model                 object\n",
       "year                   int64\n",
       "engine_fuel_type      object\n",
       "engine_hp            float64\n",
       "engine_cylinders     float64\n",
       "transmission_type     object\n",
       "driven_wheels         object\n",
       "number_of_doors      float64\n",
       "market_category       object\n",
       "vehicle_size          object\n",
       "vehicle_style         object\n",
       "highway_mpg            int64\n",
       "city_mpg               int64\n",
       "popularity             int64\n",
       "msrp                   int64\n",
       "dtype: object"
      ]
     },
     "execution_count": 12,
     "metadata": {},
     "output_type": "execute_result"
    }
   ],
   "source": [
    "car.dtypes"
   ]
  },
  {
   "cell_type": "code",
   "execution_count": null,
   "id": "b1794cd2-4a8b-4175-bfe5-27e4fbd30c43",
   "metadata": {},
   "outputs": [],
   "source": []
  },
  {
   "cell_type": "markdown",
   "id": "df6a6cd1-620e-4175-aea0-ba105c2c57c4",
   "metadata": {},
   "source": [
    "### Exploratory Data Analysis"
   ]
  },
  {
   "cell_type": "markdown",
   "id": "7773668f-0877-4085-9793-8ea0ab8a99d2",
   "metadata": {},
   "source": [
    "#### Finding unique values for each column"
   ]
  },
  {
   "cell_type": "code",
   "execution_count": 13,
   "id": "8bd74007-e5af-4d2e-af22-d64f9a94bc78",
   "metadata": {},
   "outputs": [
    {
     "name": "stdout",
     "output_type": "stream",
     "text": [
      "make\n",
      "['bmw' 'audi' 'fiat' 'mercedes-benz' 'chrysler']\n",
      "48\n",
      "\n",
      "model\n",
      "['1_series_m' '1_series' '100' '124_spider' '190-class']\n",
      "914\n",
      "\n",
      "year\n",
      "[2011 2012 2013 1992 1993]\n",
      "28\n",
      "\n",
      "engine_fuel_type\n",
      "['premium_unleaded_(required)' 'regular_unleaded'\n",
      " 'premium_unleaded_(recommended)' 'flex-fuel_(unleaded/e85)' 'diesel']\n",
      "10\n",
      "\n",
      "engine_hp\n",
      "[335. 300. 230. 320. 172.]\n",
      "356\n",
      "\n",
      "engine_cylinders\n",
      "[ 6.  4.  5.  8. 12.]\n",
      "9\n",
      "\n",
      "transmission_type\n",
      "['manual' 'automatic' 'automated_manual' 'direct_drive' 'unknown']\n",
      "5\n",
      "\n",
      "driven_wheels\n",
      "['rear_wheel_drive' 'front_wheel_drive' 'all_wheel_drive'\n",
      " 'four_wheel_drive']\n",
      "4\n",
      "\n",
      "number_of_doors\n",
      "[ 2.  4.  3. nan]\n",
      "3\n",
      "\n",
      "market_category\n",
      "['factory_tuner,luxury,high-performance' 'luxury,performance'\n",
      " 'luxury,high-performance' 'luxury' 'performance']\n",
      "71\n",
      "\n",
      "vehicle_size\n",
      "['compact' 'midsize' 'large']\n",
      "3\n",
      "\n",
      "vehicle_style\n",
      "['coupe' 'convertible' 'sedan' 'wagon' '4dr_hatchback']\n",
      "16\n",
      "\n",
      "highway_mpg\n",
      "[26 28 27 25 24]\n",
      "59\n",
      "\n",
      "city_mpg\n",
      "[19 20 18 17 16]\n",
      "69\n",
      "\n",
      "popularity\n",
      "[3916 3105  819  617 1013]\n",
      "48\n",
      "\n",
      "msrp\n",
      "[46135 40650 36350 29450 34500]\n",
      "6049\n",
      "\n"
     ]
    }
   ],
   "source": [
    "for col in car.columns:\n",
    "    print(col)\n",
    "    print(car[col].unique()[:5])\n",
    "    print(car[col].nunique())\n",
    "    print()"
   ]
  },
  {
   "cell_type": "markdown",
   "id": "fba1ad06-0bad-44c7-b954-5b3aec1f3f14",
   "metadata": {},
   "source": [
    "#### Distribution of Price"
   ]
  },
  {
   "cell_type": "code",
   "execution_count": 14,
   "id": "472eba77-7276-4cc8-b2fa-2db8c74c0fc5",
   "metadata": {},
   "outputs": [],
   "source": [
    "import matplotlib.pyplot as plt\n",
    "import seaborn as sns\n",
    "\n",
    "%matplotlib inline"
   ]
  },
  {
   "cell_type": "code",
   "execution_count": 15,
   "id": "3f3509f1-0407-409b-9283-6584bb30e42b",
   "metadata": {},
   "outputs": [
    {
     "data": {
      "text/plain": [
       "<Axes: xlabel='msrp', ylabel='Count'>"
      ]
     },
     "execution_count": 15,
     "metadata": {},
     "output_type": "execute_result"
    },
    {
     "data": {
      "image/png": "[encoded data removed]",
      "text/plain": [
       "<Figure size 640x480 with 1 Axes>"
      ]
     },
     "metadata": {},
     "output_type": "display_data"
    }
   ],
   "source": [
    "sns.histplot(car.msrp, bins=50)"
   ]
  },
  {
   "cell_type": "markdown",
   "id": "d9d74518-319a-4d2b-bf8e-411460854c68",
   "metadata": {},
   "source": [
    "##### Zooming in on the denser part of the distribution"
   ]
  },
  {
   "cell_type": "code",
   "execution_count": 16,
   "id": "26b01bcd-835c-474e-8130-7b717207c5b3",
   "metadata": {},
   "outputs": [
    {
     "data": {
      "text/plain": [
       "<Axes: xlabel='msrp', ylabel='Count'>"
      ]
     },
     "execution_count": 16,
     "metadata": {},
     "output_type": "execute_result"
    },
    {
     "data": {
      "image/png": "[encoded data removed]",
      "text/plain": [
       "<Figure size 640x480 with 1 Axes>"
      ]
     },
     "metadata": {},
     "output_type": "display_data"
    }
   ],
   "source": [
    "sns.histplot(car.msrp[car.msrp < 100000], bins=50)"
   ]
  },
  {
   "cell_type": "markdown",
   "id": "51c63e87-f436-4458-97fb-380dfabb12fe",
   "metadata": {},
   "source": [
    "##### Getting rid of the long-tail in the distribution"
   ]
  },
  {
   "cell_type": "code",
   "execution_count": 17,
   "id": "2e2819fe-65a7-48ca-aaf2-be1d86671c26",
   "metadata": {},
   "outputs": [
    {
     "data": {
      "text/plain": [
       "array([ 0.        ,  0.69314718,  2.39789527,  6.90875478, 13.81551156])"
      ]
     },
     "execution_count": 17,
     "metadata": {},
     "output_type": "execute_result"
    }
   ],
   "source": [
    "np.log1p([0, 1, 10, 1000, 1000000])"
   ]
  },
  {
   "cell_type": "code",
   "execution_count": 18,
   "id": "5043063b-4116-43ec-a210-d7bf7de5ffce",
   "metadata": {},
   "outputs": [],
   "source": [
    "price_logs = np.log1p(car.msrp)"
   ]
  },
  {
   "cell_type": "code",
   "execution_count": 19,
   "id": "a3c9f7c1-02c3-4564-acdc-833f95c57c12",
   "metadata": {},
   "outputs": [
    {
     "data": {
      "text/plain": [
       "0        10.739349\n",
       "1        10.612779\n",
       "2        10.500977\n",
       "3        10.290483\n",
       "4        10.448744\n",
       "           ...    \n",
       "11909    10.739024\n",
       "11910    10.945018\n",
       "11911    10.832122\n",
       "11912    10.838031\n",
       "11913    10.274913\n",
       "Name: msrp, Length: 11914, dtype: float64"
      ]
     },
     "execution_count": 19,
     "metadata": {},
     "output_type": "execute_result"
    }
   ],
   "source": [
    "price_logs"
   ]
  },
  {
   "cell_type": "code",
   "execution_count": 20,
   "id": "326719d6-344a-439f-b104-6f66477c7517",
   "metadata": {},
   "outputs": [
    {
     "data": {
      "text/plain": [
       "<Axes: xlabel='msrp', ylabel='Count'>"
      ]
     },
     "execution_count": 20,
     "metadata": {},
     "output_type": "execute_result"
    },
    {
     "data": {
      "image/png": "[encoded data removed]",
      "text/plain": [
       "<Figure size 640x480 with 1 Axes>"
      ]
     },
     "metadata": {},
     "output_type": "display_data"
    }
   ],
   "source": [
    "sns.histplot(price_logs, bins=50)"
   ]
  },
  {
   "cell_type": "markdown",
   "id": "2987ee35-220d-4d0f-aaaa-8069d354440c",
   "metadata": {},
   "source": [
    "#### Examining Missing values"
   ]
  },
  {
   "cell_type": "code",
   "execution_count": 21,
   "id": "b094dd5f-2bb1-4aa6-aa2f-58f2a76e8c1c",
   "metadata": {},
   "outputs": [
    {
     "data": {
      "text/plain": [
       "make                    0\n",
       "model                   0\n",
       "year                    0\n",
       "engine_fuel_type        3\n",
       "engine_hp              69\n",
       "engine_cylinders       30\n",
       "transmission_type       0\n",
       "driven_wheels           0\n",
       "number_of_doors         6\n",
       "market_category      3742\n",
       "vehicle_size            0\n",
       "vehicle_style           0\n",
       "highway_mpg             0\n",
       "city_mpg                0\n",
       "popularity              0\n",
       "msrp                    0\n",
       "dtype: int64"
      ]
     },
     "execution_count": 21,
     "metadata": {},
     "output_type": "execute_result"
    }
   ],
   "source": [
    "car.isnull().sum()"
   ]
  },
  {
   "cell_type": "code",
   "execution_count": null,
   "id": "dcabfaf1-f6b7-4444-9077-1d851b3f21d5",
   "metadata": {},
   "outputs": [],
   "source": []
  },
  {
   "cell_type": "markdown",
   "id": "34e3e891-75a1-4414-8745-ab9c4df08152",
   "metadata": {},
   "source": [
    "## 2. Setting up the validation framework"
   ]
  },
  {
   "cell_type": "markdown",
   "id": "20647ae3-df50-4122-b124-b30f3cf75c8e",
   "metadata": {},
   "source": [
    "### The first step is to divide the dataset into `training`, `validation` and `test` subsets"
   ]
  },
  {
   "cell_type": "code",
   "execution_count": 22,
   "id": "401683c5-76fb-442a-a43f-b0e9e0211717",
   "metadata": {},
   "outputs": [],
   "source": [
    "n = len(car)\n",
    "\n",
    "n_val = int(n * 0.2)\n",
    "n_test = int(n * 0.2)\n",
    "n_train = n - n_val - n_test"
   ]
  },
  {
   "cell_type": "code",
   "execution_count": 23,
   "id": "0950c17e-cb9f-4dc0-be71-a77fce7e83aa",
   "metadata": {},
   "outputs": [
    {
     "data": {
      "text/plain": [
       "(2382, 2382, 7150)"
      ]
     },
     "execution_count": 23,
     "metadata": {},
     "output_type": "execute_result"
    }
   ],
   "source": [
    "n_val, n_test, n_train"
   ]
  },
  {
   "cell_type": "code",
   "execution_count": 139,
   "id": "b3de9ef4-98aa-400c-bdde-e280d810a4e0",
   "metadata": {},
   "outputs": [],
   "source": [
    "car_train = car.iloc[:n_train]\n",
    "car_val = car.iloc[n_train:n_train+n_val]\n",
    "car_test = car.iloc[n_train+n_val:]"
   ]
  },
  {
   "cell_type": "code",
   "execution_count": 140,
   "id": "3dce1642-3551-4463-a6f3-38e4b1e193b0",
   "metadata": {},
   "outputs": [
    {
     "data": {
      "text/html": [
       "<div>\n",
       "<style scoped>\n",
       "    .dataframe tbody tr th:only-of-type {\n",
       "        vertical-align: middle;\n",
       "    }\n",
       "\n",
       "    .dataframe tbody tr th {\n",
       "        vertical-align: top;\n",
       "    }\n",
       "\n",
       "    .dataframe thead th {\n",
       "        text-align: right;\n",
       "    }\n",
       "</style>\n",
       "<table border=\"1\" class=\"dataframe\">\n",
       "  <thead>\n",
       "    <tr style=\"text-align: right;\">\n",
       "      <th></th>\n",
       "      <th>make</th>\n",
       "      <th>model</th>\n",
       "      <th>year</th>\n",
       "      <th>engine_fuel_type</th>\n",
       "      <th>engine_hp</th>\n",
       "      <th>engine_cylinders</th>\n",
       "      <th>transmission_type</th>\n",
       "      <th>driven_wheels</th>\n",
       "      <th>number_of_doors</th>\n",
       "      <th>market_category</th>\n",
       "      <th>vehicle_size</th>\n",
       "      <th>vehicle_style</th>\n",
       "      <th>highway_mpg</th>\n",
       "      <th>city_mpg</th>\n",
       "      <th>popularity</th>\n",
       "      <th>msrp</th>\n",
       "    </tr>\n",
       "  </thead>\n",
       "  <tbody>\n",
       "    <tr>\n",
       "      <th>7150</th>\n",
       "      <td>lincoln</td>\n",
       "      <td>navigator</td>\n",
       "      <td>2015</td>\n",
       "      <td>regular_unleaded</td>\n",
       "      <td>365.0</td>\n",
       "      <td>6.0</td>\n",
       "      <td>automatic</td>\n",
       "      <td>rear_wheel_drive</td>\n",
       "      <td>4.0</td>\n",
       "      <td>luxury</td>\n",
       "      <td>large</td>\n",
       "      <td>4dr_suv</td>\n",
       "      <td>20</td>\n",
       "      <td>15</td>\n",
       "      <td>61</td>\n",
       "      <td>63645</td>\n",
       "    </tr>\n",
       "    <tr>\n",
       "      <th>7151</th>\n",
       "      <td>lincoln</td>\n",
       "      <td>navigator</td>\n",
       "      <td>2016</td>\n",
       "      <td>regular_unleaded</td>\n",
       "      <td>380.0</td>\n",
       "      <td>6.0</td>\n",
       "      <td>automatic</td>\n",
       "      <td>rear_wheel_drive</td>\n",
       "      <td>4.0</td>\n",
       "      <td>luxury</td>\n",
       "      <td>large</td>\n",
       "      <td>4dr_suv</td>\n",
       "      <td>22</td>\n",
       "      <td>16</td>\n",
       "      <td>61</td>\n",
       "      <td>63195</td>\n",
       "    </tr>\n",
       "    <tr>\n",
       "      <th>7152</th>\n",
       "      <td>lincoln</td>\n",
       "      <td>navigator</td>\n",
       "      <td>2016</td>\n",
       "      <td>regular_unleaded</td>\n",
       "      <td>380.0</td>\n",
       "      <td>6.0</td>\n",
       "      <td>automatic</td>\n",
       "      <td>four_wheel_drive</td>\n",
       "      <td>4.0</td>\n",
       "      <td>luxury</td>\n",
       "      <td>large</td>\n",
       "      <td>4dr_suv</td>\n",
       "      <td>19</td>\n",
       "      <td>15</td>\n",
       "      <td>61</td>\n",
       "      <td>76650</td>\n",
       "    </tr>\n",
       "    <tr>\n",
       "      <th>7153</th>\n",
       "      <td>lincoln</td>\n",
       "      <td>navigator</td>\n",
       "      <td>2016</td>\n",
       "      <td>regular_unleaded</td>\n",
       "      <td>380.0</td>\n",
       "      <td>6.0</td>\n",
       "      <td>automatic</td>\n",
       "      <td>four_wheel_drive</td>\n",
       "      <td>4.0</td>\n",
       "      <td>luxury</td>\n",
       "      <td>large</td>\n",
       "      <td>4dr_suv</td>\n",
       "      <td>19</td>\n",
       "      <td>15</td>\n",
       "      <td>61</td>\n",
       "      <td>69135</td>\n",
       "    </tr>\n",
       "    <tr>\n",
       "      <th>7154</th>\n",
       "      <td>lincoln</td>\n",
       "      <td>navigator</td>\n",
       "      <td>2016</td>\n",
       "      <td>regular_unleaded</td>\n",
       "      <td>380.0</td>\n",
       "      <td>6.0</td>\n",
       "      <td>automatic</td>\n",
       "      <td>rear_wheel_drive</td>\n",
       "      <td>4.0</td>\n",
       "      <td>luxury</td>\n",
       "      <td>large</td>\n",
       "      <td>4dr_suv</td>\n",
       "      <td>20</td>\n",
       "      <td>15</td>\n",
       "      <td>61</td>\n",
       "      <td>65560</td>\n",
       "    </tr>\n",
       "    <tr>\n",
       "      <th>...</th>\n",
       "      <td>...</td>\n",
       "      <td>...</td>\n",
       "      <td>...</td>\n",
       "      <td>...</td>\n",
       "      <td>...</td>\n",
       "      <td>...</td>\n",
       "      <td>...</td>\n",
       "      <td>...</td>\n",
       "      <td>...</td>\n",
       "      <td>...</td>\n",
       "      <td>...</td>\n",
       "      <td>...</td>\n",
       "      <td>...</td>\n",
       "      <td>...</td>\n",
       "      <td>...</td>\n",
       "      <td>...</td>\n",
       "    </tr>\n",
       "    <tr>\n",
       "      <th>9527</th>\n",
       "      <td>chevrolet</td>\n",
       "      <td>silverado_1500</td>\n",
       "      <td>2015</td>\n",
       "      <td>flex-fuel_(unleaded/e85)</td>\n",
       "      <td>285.0</td>\n",
       "      <td>6.0</td>\n",
       "      <td>automatic</td>\n",
       "      <td>four_wheel_drive</td>\n",
       "      <td>4.0</td>\n",
       "      <td>flex_fuel</td>\n",
       "      <td>large</td>\n",
       "      <td>crew_cab_pickup</td>\n",
       "      <td>22</td>\n",
       "      <td>17</td>\n",
       "      <td>1385</td>\n",
       "      <td>37380</td>\n",
       "    </tr>\n",
       "    <tr>\n",
       "      <th>9528</th>\n",
       "      <td>chevrolet</td>\n",
       "      <td>silverado_1500</td>\n",
       "      <td>2015</td>\n",
       "      <td>regular_unleaded</td>\n",
       "      <td>355.0</td>\n",
       "      <td>8.0</td>\n",
       "      <td>automatic</td>\n",
       "      <td>rear_wheel_drive</td>\n",
       "      <td>4.0</td>\n",
       "      <td>NaN</td>\n",
       "      <td>large</td>\n",
       "      <td>extended_cab_pickup</td>\n",
       "      <td>23</td>\n",
       "      <td>16</td>\n",
       "      <td>1385</td>\n",
       "      <td>40100</td>\n",
       "    </tr>\n",
       "    <tr>\n",
       "      <th>9529</th>\n",
       "      <td>chevrolet</td>\n",
       "      <td>silverado_1500</td>\n",
       "      <td>2015</td>\n",
       "      <td>regular_unleaded</td>\n",
       "      <td>355.0</td>\n",
       "      <td>8.0</td>\n",
       "      <td>automatic</td>\n",
       "      <td>rear_wheel_drive</td>\n",
       "      <td>4.0</td>\n",
       "      <td>NaN</td>\n",
       "      <td>large</td>\n",
       "      <td>crew_cab_pickup</td>\n",
       "      <td>23</td>\n",
       "      <td>16</td>\n",
       "      <td>1385</td>\n",
       "      <td>42560</td>\n",
       "    </tr>\n",
       "    <tr>\n",
       "      <th>9530</th>\n",
       "      <td>chevrolet</td>\n",
       "      <td>silverado_1500</td>\n",
       "      <td>2015</td>\n",
       "      <td>regular_unleaded</td>\n",
       "      <td>355.0</td>\n",
       "      <td>8.0</td>\n",
       "      <td>automatic</td>\n",
       "      <td>rear_wheel_drive</td>\n",
       "      <td>4.0</td>\n",
       "      <td>NaN</td>\n",
       "      <td>large</td>\n",
       "      <td>crew_cab_pickup</td>\n",
       "      <td>23</td>\n",
       "      <td>16</td>\n",
       "      <td>1385</td>\n",
       "      <td>42860</td>\n",
       "    </tr>\n",
       "    <tr>\n",
       "      <th>9531</th>\n",
       "      <td>chevrolet</td>\n",
       "      <td>silverado_1500</td>\n",
       "      <td>2015</td>\n",
       "      <td>regular_unleaded</td>\n",
       "      <td>355.0</td>\n",
       "      <td>8.0</td>\n",
       "      <td>automatic</td>\n",
       "      <td>four_wheel_drive</td>\n",
       "      <td>4.0</td>\n",
       "      <td>NaN</td>\n",
       "      <td>large</td>\n",
       "      <td>crew_cab_pickup</td>\n",
       "      <td>22</td>\n",
       "      <td>16</td>\n",
       "      <td>1385</td>\n",
       "      <td>45120</td>\n",
       "    </tr>\n",
       "  </tbody>\n",
       "</table>\n",
       "<p>2382 rows × 16 columns</p>\n",
       "</div>"
      ],
      "text/plain": [
       "           make           model  year          engine_fuel_type  engine_hp  \\\n",
       "7150    lincoln       navigator  2015          regular_unleaded      365.0   \n",
       "7151    lincoln       navigator  2016          regular_unleaded      380.0   \n",
       "7152    lincoln       navigator  2016          regular_unleaded      380.0   \n",
       "7153    lincoln       navigator  2016          regular_unleaded      380.0   \n",
       "7154    lincoln       navigator  2016          regular_unleaded      380.0   \n",
       "...         ...             ...   ...                       ...        ...   \n",
       "9527  chevrolet  silverado_1500  2015  flex-fuel_(unleaded/e85)      285.0   \n",
       "9528  chevrolet  silverado_1500  2015          regular_unleaded      355.0   \n",
       "9529  chevrolet  silverado_1500  2015          regular_unleaded      355.0   \n",
       "9530  chevrolet  silverado_1500  2015          regular_unleaded      355.0   \n",
       "9531  chevrolet  silverado_1500  2015          regular_unleaded      355.0   \n",
       "\n",
       "      engine_cylinders transmission_type     driven_wheels  number_of_doors  \\\n",
       "7150               6.0         automatic  rear_wheel_drive              4.0   \n",
       "7151               6.0         automatic  rear_wheel_drive              4.0   \n",
       "7152               6.0         automatic  four_wheel_drive              4.0   \n",
       "7153               6.0         automatic  four_wheel_drive              4.0   \n",
       "7154               6.0         automatic  rear_wheel_drive              4.0   \n",
       "...                ...               ...               ...              ...   \n",
       "9527               6.0         automatic  four_wheel_drive              4.0   \n",
       "9528               8.0         automatic  rear_wheel_drive              4.0   \n",
       "9529               8.0         automatic  rear_wheel_drive              4.0   \n",
       "9530               8.0         automatic  rear_wheel_drive              4.0   \n",
       "9531               8.0         automatic  four_wheel_drive              4.0   \n",
       "\n",
       "     market_category vehicle_size        vehicle_style  highway_mpg  city_mpg  \\\n",
       "7150          luxury        large              4dr_suv           20        15   \n",
       "7151          luxury        large              4dr_suv           22        16   \n",
       "7152          luxury        large              4dr_suv           19        15   \n",
       "7153          luxury        large              4dr_suv           19        15   \n",
       "7154          luxury        large              4dr_suv           20        15   \n",
       "...              ...          ...                  ...          ...       ...   \n",
       "9527       flex_fuel        large      crew_cab_pickup           22        17   \n",
       "9528             NaN        large  extended_cab_pickup           23        16   \n",
       "9529             NaN        large      crew_cab_pickup           23        16   \n",
       "9530             NaN        large      crew_cab_pickup           23        16   \n",
       "9531             NaN        large      crew_cab_pickup           22        16   \n",
       "\n",
       "      popularity   msrp  \n",
       "7150          61  63645  \n",
       "7151          61  63195  \n",
       "7152          61  76650  \n",
       "7153          61  69135  \n",
       "7154          61  65560  \n",
       "...          ...    ...  \n",
       "9527        1385  37380  \n",
       "9528        1385  40100  \n",
       "9529        1385  42560  \n",
       "9530        1385  42860  \n",
       "9531        1385  45120  \n",
       "\n",
       "[2382 rows x 16 columns]"
      ]
     },
     "execution_count": 140,
     "metadata": {},
     "output_type": "execute_result"
    }
   ],
   "source": [
    "car_val"
   ]
  },
  {
   "cell_type": "markdown",
   "id": "58d2c883-b1f4-415d-b1ad-65d1d71de3da",
   "metadata": {},
   "source": [
    "#### There is a need to shuffle the dataset to ensure that each subset is representative of the whole in composition, such that no one \"make\" or \"model\" dominates a subset."
   ]
  },
  {
   "cell_type": "code",
   "execution_count": 141,
   "id": "7d9056f2-d03c-46d6-9818-d96a31092f94",
   "metadata": {},
   "outputs": [],
   "source": [
    "idx = np.arange(n)"
   ]
  },
  {
   "cell_type": "markdown",
   "id": "07159585-e596-4034-b7cf-8a0a415e6be7",
   "metadata": {},
   "source": [
    "##### A seed is set to ensure that result of the shuffle generates the same result every time it's run."
   ]
  },
  {
   "cell_type": "code",
   "execution_count": 142,
   "id": "31c580bf-648b-4b7e-acae-b0cb67623a95",
   "metadata": {},
   "outputs": [],
   "source": [
    "np.random.seed(3)\n",
    "np.random.shuffle(idx)"
   ]
  },
  {
   "cell_type": "code",
   "execution_count": 143,
   "id": "e05f2beb-500b-47b5-b247-ba9f6695464e",
   "metadata": {},
   "outputs": [],
   "source": [
    "car_train = car.iloc[idx[:n_train]]\n",
    "car_val = car.iloc[idx[n_train:n_train+n_val]]\n",
    "car_test = car.iloc[idx[n_train+n_val:]]"
   ]
  },
  {
   "cell_type": "code",
   "execution_count": 144,
   "id": "114ad1c9-99e8-4ecd-8421-fad2c1ab29fa",
   "metadata": {},
   "outputs": [
    {
     "data": {
      "text/html": [
       "<div>\n",
       "<style scoped>\n",
       "    .dataframe tbody tr th:only-of-type {\n",
       "        vertical-align: middle;\n",
       "    }\n",
       "\n",
       "    .dataframe tbody tr th {\n",
       "        vertical-align: top;\n",
       "    }\n",
       "\n",
       "    .dataframe thead th {\n",
       "        text-align: right;\n",
       "    }\n",
       "</style>\n",
       "<table border=\"1\" class=\"dataframe\">\n",
       "  <thead>\n",
       "    <tr style=\"text-align: right;\">\n",
       "      <th></th>\n",
       "      <th>make</th>\n",
       "      <th>model</th>\n",
       "      <th>year</th>\n",
       "      <th>engine_fuel_type</th>\n",
       "      <th>engine_hp</th>\n",
       "      <th>engine_cylinders</th>\n",
       "      <th>transmission_type</th>\n",
       "      <th>driven_wheels</th>\n",
       "      <th>number_of_doors</th>\n",
       "      <th>market_category</th>\n",
       "      <th>vehicle_size</th>\n",
       "      <th>vehicle_style</th>\n",
       "      <th>highway_mpg</th>\n",
       "      <th>city_mpg</th>\n",
       "      <th>popularity</th>\n",
       "      <th>msrp</th>\n",
       "    </tr>\n",
       "  </thead>\n",
       "  <tbody>\n",
       "    <tr>\n",
       "      <th>8929</th>\n",
       "      <td>volvo</td>\n",
       "      <td>s70</td>\n",
       "      <td>2000</td>\n",
       "      <td>regular_unleaded</td>\n",
       "      <td>190.0</td>\n",
       "      <td>5.0</td>\n",
       "      <td>automatic</td>\n",
       "      <td>front_wheel_drive</td>\n",
       "      <td>4.0</td>\n",
       "      <td>luxury</td>\n",
       "      <td>midsize</td>\n",
       "      <td>sedan</td>\n",
       "      <td>24</td>\n",
       "      <td>17</td>\n",
       "      <td>870</td>\n",
       "      <td>2500</td>\n",
       "    </tr>\n",
       "    <tr>\n",
       "      <th>8806</th>\n",
       "      <td>gmc</td>\n",
       "      <td>s-15</td>\n",
       "      <td>1990</td>\n",
       "      <td>regular_unleaded</td>\n",
       "      <td>105.0</td>\n",
       "      <td>4.0</td>\n",
       "      <td>manual</td>\n",
       "      <td>rear_wheel_drive</td>\n",
       "      <td>2.0</td>\n",
       "      <td>NaN</td>\n",
       "      <td>compact</td>\n",
       "      <td>extended_cab_pickup</td>\n",
       "      <td>25</td>\n",
       "      <td>21</td>\n",
       "      <td>549</td>\n",
       "      <td>2000</td>\n",
       "    </tr>\n",
       "    <tr>\n",
       "      <th>7233</th>\n",
       "      <td>oldsmobile</td>\n",
       "      <td>ninety-eight</td>\n",
       "      <td>1995</td>\n",
       "      <td>regular_unleaded</td>\n",
       "      <td>225.0</td>\n",
       "      <td>6.0</td>\n",
       "      <td>automatic</td>\n",
       "      <td>front_wheel_drive</td>\n",
       "      <td>4.0</td>\n",
       "      <td>NaN</td>\n",
       "      <td>large</td>\n",
       "      <td>sedan</td>\n",
       "      <td>26</td>\n",
       "      <td>17</td>\n",
       "      <td>26</td>\n",
       "      <td>2000</td>\n",
       "    </tr>\n",
       "    <tr>\n",
       "      <th>3535</th>\n",
       "      <td>aston_martin</td>\n",
       "      <td>dbs</td>\n",
       "      <td>2010</td>\n",
       "      <td>premium_unleaded_(required)</td>\n",
       "      <td>510.0</td>\n",
       "      <td>12.0</td>\n",
       "      <td>automatic</td>\n",
       "      <td>rear_wheel_drive</td>\n",
       "      <td>2.0</td>\n",
       "      <td>exotic,high-performance</td>\n",
       "      <td>midsize</td>\n",
       "      <td>convertible</td>\n",
       "      <td>18</td>\n",
       "      <td>12</td>\n",
       "      <td>259</td>\n",
       "      <td>283900</td>\n",
       "    </tr>\n",
       "    <tr>\n",
       "      <th>8763</th>\n",
       "      <td>chevrolet</td>\n",
       "      <td>s-10</td>\n",
       "      <td>2002</td>\n",
       "      <td>regular_unleaded</td>\n",
       "      <td>190.0</td>\n",
       "      <td>6.0</td>\n",
       "      <td>automatic</td>\n",
       "      <td>rear_wheel_drive</td>\n",
       "      <td>2.0</td>\n",
       "      <td>performance</td>\n",
       "      <td>compact</td>\n",
       "      <td>regular_cab_pickup</td>\n",
       "      <td>20</td>\n",
       "      <td>15</td>\n",
       "      <td>1385</td>\n",
       "      <td>21499</td>\n",
       "    </tr>\n",
       "  </tbody>\n",
       "</table>\n",
       "</div>"
      ],
      "text/plain": [
       "              make         model  year             engine_fuel_type  \\\n",
       "8929         volvo           s70  2000             regular_unleaded   \n",
       "8806           gmc          s-15  1990             regular_unleaded   \n",
       "7233    oldsmobile  ninety-eight  1995             regular_unleaded   \n",
       "3535  aston_martin           dbs  2010  premium_unleaded_(required)   \n",
       "8763     chevrolet          s-10  2002             regular_unleaded   \n",
       "\n",
       "      engine_hp  engine_cylinders transmission_type      driven_wheels  \\\n",
       "8929      190.0               5.0         automatic  front_wheel_drive   \n",
       "8806      105.0               4.0            manual   rear_wheel_drive   \n",
       "7233      225.0               6.0         automatic  front_wheel_drive   \n",
       "3535      510.0              12.0         automatic   rear_wheel_drive   \n",
       "8763      190.0               6.0         automatic   rear_wheel_drive   \n",
       "\n",
       "      number_of_doors          market_category vehicle_size  \\\n",
       "8929              4.0                   luxury      midsize   \n",
       "8806              2.0                      NaN      compact   \n",
       "7233              4.0                      NaN        large   \n",
       "3535              2.0  exotic,high-performance      midsize   \n",
       "8763              2.0              performance      compact   \n",
       "\n",
       "            vehicle_style  highway_mpg  city_mpg  popularity    msrp  \n",
       "8929                sedan           24        17         870    2500  \n",
       "8806  extended_cab_pickup           25        21         549    2000  \n",
       "7233                sedan           26        17          26    2000  \n",
       "3535          convertible           18        12         259  283900  \n",
       "8763   regular_cab_pickup           20        15        1385   21499  "
      ]
     },
     "execution_count": 144,
     "metadata": {},
     "output_type": "execute_result"
    }
   ],
   "source": [
    "car_train.head()"
   ]
  },
  {
   "cell_type": "code",
   "execution_count": 30,
   "id": "3dfeac60-52f2-4278-81ab-57c5f781bdea",
   "metadata": {},
   "outputs": [
    {
     "data": {
      "text/plain": [
       "(7150, 2382, 2382)"
      ]
     },
     "execution_count": 30,
     "metadata": {},
     "output_type": "execute_result"
    }
   ],
   "source": [
    "len(car_train), len(car_val), len(car_test)"
   ]
  },
  {
   "cell_type": "code",
   "execution_count": null,
   "id": "9fc450ef-a3db-4684-9fc2-91fdcf734421",
   "metadata": {
    "jupyter": {
     "source_hidden": true
    }
   },
   "outputs": [],
   "source": []
  },
  {
   "cell_type": "markdown",
   "id": "5396f195-d842-41cc-907c-ece8c3f796e7",
   "metadata": {},
   "source": [
    "##### Resetting indices"
   ]
  },
  {
   "cell_type": "code",
   "execution_count": 31,
   "id": "7f399ee9-e82e-4bfc-a111-21ab6d98fede",
   "metadata": {
    "jupyter": {
     "source_hidden": true
    }
   },
   "outputs": [],
   "source": [
    "car_train = car_train.reset_index(drop=True)\n",
    "car_val = car_val.reset_index(drop=True)\n",
    "car_test = car_test.reset_index(drop=True)"
   ]
  },
  {
   "cell_type": "code",
   "execution_count": 32,
   "id": "873d44a7-b670-4153-9ee3-890ed0f157c1",
   "metadata": {},
   "outputs": [
    {
     "data": {
      "text/html": [
       "<div>\n",
       "<style scoped>\n",
       "    .dataframe tbody tr th:only-of-type {\n",
       "        vertical-align: middle;\n",
       "    }\n",
       "\n",
       "    .dataframe tbody tr th {\n",
       "        vertical-align: top;\n",
       "    }\n",
       "\n",
       "    .dataframe thead th {\n",
       "        text-align: right;\n",
       "    }\n",
       "</style>\n",
       "<table border=\"1\" class=\"dataframe\">\n",
       "  <thead>\n",
       "    <tr style=\"text-align: right;\">\n",
       "      <th></th>\n",
       "      <th>make</th>\n",
       "      <th>model</th>\n",
       "      <th>year</th>\n",
       "      <th>engine_fuel_type</th>\n",
       "      <th>engine_hp</th>\n",
       "      <th>engine_cylinders</th>\n",
       "      <th>transmission_type</th>\n",
       "      <th>driven_wheels</th>\n",
       "      <th>number_of_doors</th>\n",
       "      <th>market_category</th>\n",
       "      <th>vehicle_size</th>\n",
       "      <th>vehicle_style</th>\n",
       "      <th>highway_mpg</th>\n",
       "      <th>city_mpg</th>\n",
       "      <th>popularity</th>\n",
       "      <th>msrp</th>\n",
       "    </tr>\n",
       "  </thead>\n",
       "  <tbody>\n",
       "    <tr>\n",
       "      <th>0</th>\n",
       "      <td>volvo</td>\n",
       "      <td>s70</td>\n",
       "      <td>2000</td>\n",
       "      <td>regular_unleaded</td>\n",
       "      <td>190.0</td>\n",
       "      <td>5.0</td>\n",
       "      <td>automatic</td>\n",
       "      <td>front_wheel_drive</td>\n",
       "      <td>4.0</td>\n",
       "      <td>luxury</td>\n",
       "      <td>midsize</td>\n",
       "      <td>sedan</td>\n",
       "      <td>24</td>\n",
       "      <td>17</td>\n",
       "      <td>870</td>\n",
       "      <td>2500</td>\n",
       "    </tr>\n",
       "    <tr>\n",
       "      <th>1</th>\n",
       "      <td>gmc</td>\n",
       "      <td>s-15</td>\n",
       "      <td>1990</td>\n",
       "      <td>regular_unleaded</td>\n",
       "      <td>105.0</td>\n",
       "      <td>4.0</td>\n",
       "      <td>manual</td>\n",
       "      <td>rear_wheel_drive</td>\n",
       "      <td>2.0</td>\n",
       "      <td>NaN</td>\n",
       "      <td>compact</td>\n",
       "      <td>extended_cab_pickup</td>\n",
       "      <td>25</td>\n",
       "      <td>21</td>\n",
       "      <td>549</td>\n",
       "      <td>2000</td>\n",
       "    </tr>\n",
       "    <tr>\n",
       "      <th>2</th>\n",
       "      <td>oldsmobile</td>\n",
       "      <td>ninety-eight</td>\n",
       "      <td>1995</td>\n",
       "      <td>regular_unleaded</td>\n",
       "      <td>225.0</td>\n",
       "      <td>6.0</td>\n",
       "      <td>automatic</td>\n",
       "      <td>front_wheel_drive</td>\n",
       "      <td>4.0</td>\n",
       "      <td>NaN</td>\n",
       "      <td>large</td>\n",
       "      <td>sedan</td>\n",
       "      <td>26</td>\n",
       "      <td>17</td>\n",
       "      <td>26</td>\n",
       "      <td>2000</td>\n",
       "    </tr>\n",
       "    <tr>\n",
       "      <th>3</th>\n",
       "      <td>aston_martin</td>\n",
       "      <td>dbs</td>\n",
       "      <td>2010</td>\n",
       "      <td>premium_unleaded_(required)</td>\n",
       "      <td>510.0</td>\n",
       "      <td>12.0</td>\n",
       "      <td>automatic</td>\n",
       "      <td>rear_wheel_drive</td>\n",
       "      <td>2.0</td>\n",
       "      <td>exotic,high-performance</td>\n",
       "      <td>midsize</td>\n",
       "      <td>convertible</td>\n",
       "      <td>18</td>\n",
       "      <td>12</td>\n",
       "      <td>259</td>\n",
       "      <td>283900</td>\n",
       "    </tr>\n",
       "    <tr>\n",
       "      <th>4</th>\n",
       "      <td>chevrolet</td>\n",
       "      <td>s-10</td>\n",
       "      <td>2002</td>\n",
       "      <td>regular_unleaded</td>\n",
       "      <td>190.0</td>\n",
       "      <td>6.0</td>\n",
       "      <td>automatic</td>\n",
       "      <td>rear_wheel_drive</td>\n",
       "      <td>2.0</td>\n",
       "      <td>performance</td>\n",
       "      <td>compact</td>\n",
       "      <td>regular_cab_pickup</td>\n",
       "      <td>20</td>\n",
       "      <td>15</td>\n",
       "      <td>1385</td>\n",
       "      <td>21499</td>\n",
       "    </tr>\n",
       "  </tbody>\n",
       "</table>\n",
       "</div>"
      ],
      "text/plain": [
       "           make         model  year             engine_fuel_type  engine_hp  \\\n",
       "0         volvo           s70  2000             regular_unleaded      190.0   \n",
       "1           gmc          s-15  1990             regular_unleaded      105.0   \n",
       "2    oldsmobile  ninety-eight  1995             regular_unleaded      225.0   \n",
       "3  aston_martin           dbs  2010  premium_unleaded_(required)      510.0   \n",
       "4     chevrolet          s-10  2002             regular_unleaded      190.0   \n",
       "\n",
       "   engine_cylinders transmission_type      driven_wheels  number_of_doors  \\\n",
       "0               5.0         automatic  front_wheel_drive              4.0   \n",
       "1               4.0            manual   rear_wheel_drive              2.0   \n",
       "2               6.0         automatic  front_wheel_drive              4.0   \n",
       "3              12.0         automatic   rear_wheel_drive              2.0   \n",
       "4               6.0         automatic   rear_wheel_drive              2.0   \n",
       "\n",
       "           market_category vehicle_size        vehicle_style  highway_mpg  \\\n",
       "0                   luxury      midsize                sedan           24   \n",
       "1                      NaN      compact  extended_cab_pickup           25   \n",
       "2                      NaN        large                sedan           26   \n",
       "3  exotic,high-performance      midsize          convertible           18   \n",
       "4              performance      compact   regular_cab_pickup           20   \n",
       "\n",
       "   city_mpg  popularity    msrp  \n",
       "0        17         870    2500  \n",
       "1        21         549    2000  \n",
       "2        17          26    2000  \n",
       "3        12         259  283900  \n",
       "4        15        1385   21499  "
      ]
     },
     "execution_count": 32,
     "metadata": {},
     "output_type": "execute_result"
    }
   ],
   "source": [
    "car_train.head()"
   ]
  },
  {
   "cell_type": "code",
   "execution_count": null,
   "id": "c6703ecf-2a4e-420a-90ee-936b334171d8",
   "metadata": {},
   "outputs": [],
   "source": []
  },
  {
   "cell_type": "markdown",
   "id": "486e0f80-2dc2-4294-a1dd-0cc82e29207b",
   "metadata": {},
   "source": [
    "##### Turning the `target` variable into an array (without indices)"
   ]
  },
  {
   "cell_type": "code",
   "execution_count": 33,
   "id": "9137c59c-ca43-4c29-8cf8-bc8f7cb7ffad",
   "metadata": {},
   "outputs": [],
   "source": [
    "y_train = np.log1p(car_train.msrp.values)\n",
    "y_val = np.log1p(car_val.msrp.values)\n",
    "y_test = np.log1p(car_test.msrp.values)"
   ]
  },
  {
   "cell_type": "code",
   "execution_count": 34,
   "id": "be1eda09-60b7-4d1d-b9a3-756b8c780044",
   "metadata": {},
   "outputs": [
    {
     "data": {
      "text/plain": [
       "array([ 7.82444593,  7.60140233,  7.60140233, ...,  7.60140233,\n",
       "        9.95683873, 10.30129004])"
      ]
     },
     "execution_count": 34,
     "metadata": {},
     "output_type": "execute_result"
    }
   ],
   "source": [
    "y_train"
   ]
  },
  {
   "cell_type": "markdown",
   "id": "7d679484-ee45-46ce-90b6-d3c31760a7d4",
   "metadata": {},
   "source": [
    "##### Deleting `msrp` to prevent it from being accidentally used for training purposes"
   ]
  },
  {
   "cell_type": "code",
   "execution_count": 35,
   "id": "6d26f5a2-fd19-45b8-8b64-3a356c536d1c",
   "metadata": {},
   "outputs": [],
   "source": [
    "del car_train['msrp']\n",
    "del car_val['msrp']\n",
    "del car_test['msrp']"
   ]
  },
  {
   "cell_type": "code",
   "execution_count": 36,
   "id": "f2b19696-0d70-4f0c-b205-11c293d74bf3",
   "metadata": {},
   "outputs": [
    {
     "data": {
      "text/plain": [
       "7150"
      ]
     },
     "execution_count": 36,
     "metadata": {},
     "output_type": "execute_result"
    }
   ],
   "source": [
    "len(y_train)"
   ]
  },
  {
   "cell_type": "code",
   "execution_count": null,
   "id": "144d6d2e-b4c7-48c7-9934-cb680bede928",
   "metadata": {},
   "outputs": [],
   "source": []
  },
  {
   "cell_type": "markdown",
   "id": "3f41a157-bab0-4b53-bd08-c23c0c977886",
   "metadata": {},
   "source": [
    "## 3. Linear Regression"
   ]
  },
  {
   "cell_type": "markdown",
   "id": "2fc28d14-9f57-45f9-aefc-0d871b242800",
   "metadata": {},
   "source": [
    "##### Implementing on a single data point"
   ]
  },
  {
   "cell_type": "code",
   "execution_count": 37,
   "id": "d2db31e7-8bd3-4e68-9e1d-362305ad30a8",
   "metadata": {},
   "outputs": [
    {
     "data": {
      "text/plain": [
       "make                            toyota\n",
       "model                           sienna\n",
       "year                              2016\n",
       "engine_fuel_type      regular_unleaded\n",
       "engine_hp                        266.0\n",
       "engine_cylinders                   6.0\n",
       "transmission_type            automatic\n",
       "driven_wheels          all_wheel_drive\n",
       "number_of_doors                    4.0\n",
       "market_category                    NaN\n",
       "vehicle_size                     large\n",
       "vehicle_style        passenger_minivan\n",
       "highway_mpg                         23\n",
       "city_mpg                            16\n",
       "popularity                        2031\n",
       "Name: 10, dtype: object"
      ]
     },
     "execution_count": 37,
     "metadata": {},
     "output_type": "execute_result"
    }
   ],
   "source": [
    "car_train.iloc[10]"
   ]
  },
  {
   "cell_type": "code",
   "execution_count": 38,
   "id": "2badb44e-5fb6-44d8-bafd-30f7832d08a6",
   "metadata": {},
   "outputs": [],
   "source": [
    "xi = [266, 16, 2031]"
   ]
  },
  {
   "cell_type": "code",
   "execution_count": 39,
   "id": "4627b28a-903f-4fc9-b6a2-a386ba3709d4",
   "metadata": {},
   "outputs": [],
   "source": [
    "w0 = 8.18\n",
    "w = [0.01, 0.04, 0.002]"
   ]
  },
  {
   "cell_type": "code",
   "execution_count": 40,
   "id": "f8ca081c-53e8-4669-91a9-e4ace50780a1",
   "metadata": {},
   "outputs": [],
   "source": [
    "def linear_regression(xi):\n",
    "    n = len(xi)\n",
    "\n",
    "    pred = w0\n",
    "\n",
    "    for j in range(n):\n",
    "        pred = pred + w[j] * xi[j]\n",
    "    \n",
    "    return pred"
   ]
  },
  {
   "cell_type": "code",
   "execution_count": 41,
   "id": "433315c8-718c-4397-853b-3b5bed6169ca",
   "metadata": {},
   "outputs": [
    {
     "data": {
      "text/plain": [
       "15.542000000000002"
      ]
     },
     "execution_count": 41,
     "metadata": {},
     "output_type": "execute_result"
    }
   ],
   "source": [
    "linear_regression(xi)"
   ]
  },
  {
   "cell_type": "code",
   "execution_count": 42,
   "id": "be206cbe-04aa-4858-b5c2-72bcde4e1252",
   "metadata": {},
   "outputs": [
    {
     "data": {
      "text/plain": [
       "np.float64(5620885.783046965)"
      ]
     },
     "execution_count": 42,
     "metadata": {},
     "output_type": "execute_result"
    }
   ],
   "source": [
    "np.expm1(15.542000000000002)"
   ]
  },
  {
   "cell_type": "code",
   "execution_count": null,
   "id": "2255d144-26db-4968-9875-3908e73acae4",
   "metadata": {},
   "outputs": [],
   "source": []
  },
  {
   "cell_type": "markdown",
   "id": "58bc8e13-51e7-426e-8402-0c6c342d4c80",
   "metadata": {},
   "source": [
    "#### Linear regression vector form"
   ]
  },
  {
   "cell_type": "markdown",
   "id": "34d45962-cc45-450f-a235-ef3a830c326e",
   "metadata": {},
   "source": [
    "##### Generalizing the equation"
   ]
  },
  {
   "cell_type": "code",
   "execution_count": 43,
   "id": "1df4cca4-babf-496d-9cf5-3e63fb992b92",
   "metadata": {},
   "outputs": [],
   "source": [
    "def dot(xi, w):\n",
    "    n = len(xi)\n",
    "\n",
    "    res = 0.0\n",
    "\n",
    "    for j in range(n):\n",
    "        res = res + xi[j] * w[j]\n",
    "\n",
    "    return res"
   ]
  },
  {
   "cell_type": "code",
   "execution_count": 44,
   "id": "c4f289e3-143d-4ed5-ba50-bda471dfce4e",
   "metadata": {},
   "outputs": [],
   "source": [
    "def linear_regression(xi):\n",
    "    return w0 + dot(xi, w)"
   ]
  },
  {
   "cell_type": "code",
   "execution_count": 45,
   "id": "ce06be81-4e94-4795-8191-d0c764fbb378",
   "metadata": {},
   "outputs": [],
   "source": [
    "w_new = [w0] + w"
   ]
  },
  {
   "cell_type": "code",
   "execution_count": 46,
   "id": "2faeba08-2989-4ddd-aacd-d36631b69e67",
   "metadata": {},
   "outputs": [
    {
     "data": {
      "text/plain": [
       "[8.18, 0.01, 0.04, 0.002]"
      ]
     },
     "execution_count": 46,
     "metadata": {},
     "output_type": "execute_result"
    }
   ],
   "source": [
    "w_new"
   ]
  },
  {
   "cell_type": "code",
   "execution_count": 47,
   "id": "33b8c1cd-8e39-4ccc-b312-e5f581326f23",
   "metadata": {},
   "outputs": [],
   "source": [
    "def linear_regression(xi):\n",
    "    xi = [1] + xi\n",
    "    return dot(xi, w_new)"
   ]
  },
  {
   "cell_type": "code",
   "execution_count": 48,
   "id": "13f6ca6e-acd4-4771-97c6-e25bb29c4d03",
   "metadata": {},
   "outputs": [
    {
     "data": {
      "text/plain": [
       "15.542000000000002"
      ]
     },
     "execution_count": 48,
     "metadata": {},
     "output_type": "execute_result"
    }
   ],
   "source": [
    "linear_regression(xi)"
   ]
  },
  {
   "cell_type": "code",
   "execution_count": 49,
   "id": "bd9e5af7-a042-4832-b317-a1b040115679",
   "metadata": {},
   "outputs": [],
   "source": [
    "w0 = 8.18\n",
    "w = [0.01, 0.04, 0.002]\n",
    "w_new = [w0] + w"
   ]
  },
  {
   "cell_type": "code",
   "execution_count": 50,
   "id": "7f0957fc-90d7-481b-928f-47f79ac67c3a",
   "metadata": {},
   "outputs": [
    {
     "data": {
      "text/plain": [
       "array([[   1,  150,   26, 1400],\n",
       "       [   1,  130,   23, 1600],\n",
       "       [   1,  266,   16, 2031]])"
      ]
     },
     "execution_count": 50,
     "metadata": {},
     "output_type": "execute_result"
    }
   ],
   "source": [
    "x1 = [1, 150, 26, 1400]\n",
    "x2 = [1, 130, 23, 1600]\n",
    "x10 = [1, 266, 16, 2031]\n",
    "\n",
    "X = [x1, x2, x10]\n",
    "X = np.array(X)\n",
    "X"
   ]
  },
  {
   "cell_type": "code",
   "execution_count": 51,
   "id": "4e4e9105-b6ba-4286-947c-278b8e511e16",
   "metadata": {},
   "outputs": [],
   "source": [
    "def linear_regression(X):\n",
    "        return X.dot(w_new)"
   ]
  },
  {
   "cell_type": "code",
   "execution_count": 52,
   "id": "2e9e56ec-67dd-4a21-94ec-05152e968088",
   "metadata": {},
   "outputs": [
    {
     "data": {
      "text/plain": [
       "array([13.52 , 13.6  , 15.542])"
      ]
     },
     "execution_count": 52,
     "metadata": {},
     "output_type": "execute_result"
    }
   ],
   "source": [
    "linear_regression(X)"
   ]
  },
  {
   "cell_type": "code",
   "execution_count": null,
   "id": "9c122e6b-6751-4967-9036-61ba78d51663",
   "metadata": {},
   "outputs": [],
   "source": []
  },
  {
   "cell_type": "markdown",
   "id": "b40df1d5-363c-4c19-be59-65c6382c9617",
   "metadata": {},
   "source": [
    "### 4. Training a linear regression model"
   ]
  },
  {
   "cell_type": "code",
   "execution_count": 53,
   "id": "9f8b83ac-199d-4aa6-8404-56d9523475d0",
   "metadata": {},
   "outputs": [],
   "source": [
    "def train_linear_regression(X, y):\n",
    "    pass"
   ]
  },
  {
   "cell_type": "code",
   "execution_count": 65,
   "id": "e53731ab-7824-430e-a99f-d326a6a64d98",
   "metadata": {},
   "outputs": [
    {
     "data": {
      "text/plain": [
       "array([[ 148,   24, 1385],\n",
       "       [ 132,   25, 2031],\n",
       "       [ 453,   11,   86],\n",
       "       [ 158,   24,  185],\n",
       "       [ 172,   25,  201],\n",
       "       [ 413,   11,   86],\n",
       "       [  38,   54,  185],\n",
       "       [ 142,   25,  431],\n",
       "       [ 453,   31,   86]])"
      ]
     },
     "execution_count": 65,
     "metadata": {},
     "output_type": "execute_result"
    }
   ],
   "source": [
    "X =[\n",
    "    [148, 24, 1385],\n",
    "    [132, 25, 2031],\n",
    "    [453, 11, 86],\n",
    "    [158, 24, 185],\n",
    "    [172, 25, 201],\n",
    "    [413, 11, 86],\n",
    "    [38, 54, 185],\n",
    "    [142, 25, 431],\n",
    "    [453, 31, 86]\n",
    "]\n",
    "\n",
    "X = np.array(X)\n",
    "X"
   ]
  },
  {
   "cell_type": "code",
   "execution_count": 55,
   "id": "240d6140-be90-40c8-86b1-5fe90e5bae7d",
   "metadata": {},
   "outputs": [
    {
     "data": {
      "text/plain": [
       "array([1., 1., 1., 1., 1., 1., 1., 1., 1.])"
      ]
     },
     "execution_count": 55,
     "metadata": {},
     "output_type": "execute_result"
    }
   ],
   "source": [
    "ones = np.ones(X.shape[0])\n",
    "ones"
   ]
  },
  {
   "cell_type": "code",
   "execution_count": 56,
   "id": "49b95c7b-f07e-434a-8d8f-f5a09492b531",
   "metadata": {},
   "outputs": [],
   "source": [
    "X = (np.column_stack([ones, X]))"
   ]
  },
  {
   "cell_type": "code",
   "execution_count": 57,
   "id": "2e97d181-ca93-4227-8a11-9efc56009e1e",
   "metadata": {},
   "outputs": [],
   "source": [
    "y = [10000, 20000, 15000, 20050, 10000, 20000, 15000, 25000, 12000]"
   ]
  },
  {
   "cell_type": "code",
   "execution_count": 58,
   "id": "94689bdf-14e6-4fdb-9c58-6730972af6ca",
   "metadata": {},
   "outputs": [],
   "source": [
    "XTX = X.T.dot(X)"
   ]
  },
  {
   "cell_type": "code",
   "execution_count": 59,
   "id": "9e4fe0c0-fb40-4664-8f87-4e2367e5a234",
   "metadata": {},
   "outputs": [],
   "source": [
    "XTX_inv = np.linalg.inv(XTX)"
   ]
  },
  {
   "cell_type": "code",
   "execution_count": 60,
   "id": "6ccb34d2-98f7-4bc0-9783-4a5f18500a49",
   "metadata": {},
   "outputs": [],
   "source": [
    "w_full = XTX_inv.dot(X.T).dot(y)"
   ]
  },
  {
   "cell_type": "code",
   "execution_count": 61,
   "id": "68b57416-4830-4e3a-bb45-e05ded0e1d0f",
   "metadata": {},
   "outputs": [],
   "source": [
    "w0 = w_full[0]\n",
    "w = w_full[1:]"
   ]
  },
  {
   "cell_type": "code",
   "execution_count": 62,
   "id": "799129a0-bd1f-46e0-92c8-29cdfab77a77",
   "metadata": {},
   "outputs": [
    {
     "data": {
      "text/plain": [
       "(np.float64(25844.754055766753),\n",
       " array([ -16.08906468, -199.47254894,   -1.22802883]))"
      ]
     },
     "execution_count": 62,
     "metadata": {},
     "output_type": "execute_result"
    }
   ],
   "source": [
    "w0, w"
   ]
  },
  {
   "cell_type": "markdown",
   "id": "ecae7495-08e2-4561-96f5-8fce7a336814",
   "metadata": {},
   "source": [
    "##### Note: To run the function below, one has to jump from running the array `X` to here, as the `ones` have to be avoided. Otherwise, the function will fail."
   ]
  },
  {
   "cell_type": "code",
   "execution_count": 63,
   "id": "a2fff310-11e4-4c22-a940-36569eb495d5",
   "metadata": {},
   "outputs": [],
   "source": [
    "def train_linear_regression(X, y):\n",
    "    ones = np.ones(X.shape[0])\n",
    "    X = np.column_stack([ones, X])\n",
    "\n",
    "    XTX = X.T.dot(X)\n",
    "    XTX_inv = np.linalg.inv(XTX)\n",
    "    w_full = XTX_inv.dot(X.T).dot(y)\n",
    "\n",
    "    return w_full[0], w_full[1:]"
   ]
  },
  {
   "cell_type": "code",
   "execution_count": 66,
   "id": "2e2014c3-4a88-49b5-86b0-ab8328052b66",
   "metadata": {},
   "outputs": [
    {
     "data": {
      "text/plain": [
       "(np.float64(25844.754055766753),\n",
       " array([ -16.08906468, -199.47254894,   -1.22802883]))"
      ]
     },
     "execution_count": 66,
     "metadata": {},
     "output_type": "execute_result"
    }
   ],
   "source": [
    "train_linear_regression(X, y)"
   ]
  },
  {
   "cell_type": "code",
   "execution_count": null,
   "id": "0fefed78-a30c-41af-aa20-263ff48f7978",
   "metadata": {},
   "outputs": [],
   "source": []
  },
  {
   "cell_type": "markdown",
   "id": "944a4d70-8e3c-406d-9305-03c0c431cf74",
   "metadata": {},
   "source": [
    "#### Car price baseline model"
   ]
  },
  {
   "cell_type": "code",
   "execution_count": 67,
   "id": "b65b8897-7019-4189-8b52-3f6e1f1bcb3b",
   "metadata": {},
   "outputs": [
    {
     "data": {
      "text/plain": [
       "Index(['make', 'model', 'year', 'engine_fuel_type', 'engine_hp',\n",
       "       'engine_cylinders', 'transmission_type', 'driven_wheels',\n",
       "       'number_of_doors', 'market_category', 'vehicle_size', 'vehicle_style',\n",
       "       'highway_mpg', 'city_mpg', 'popularity'],\n",
       "      dtype='object')"
      ]
     },
     "execution_count": 67,
     "metadata": {},
     "output_type": "execute_result"
    }
   ],
   "source": [
    "car_train.columns"
   ]
  },
  {
   "cell_type": "code",
   "execution_count": 68,
   "id": "78ef5338-7b14-4276-8226-d48a6a80ccfe",
   "metadata": {},
   "outputs": [],
   "source": [
    "base = ['engine_hp', 'engine_cylinders', 'highway_mpg', 'city_mpg', 'popularity']"
   ]
  },
  {
   "cell_type": "code",
   "execution_count": 69,
   "id": "9ea3f9b8-637b-4a11-b210-31fbfb169e71",
   "metadata": {},
   "outputs": [],
   "source": [
    "X_train = car_train[base].values"
   ]
  },
  {
   "cell_type": "code",
   "execution_count": 70,
   "id": "42897676-4429-4ab3-bb17-2f235b927518",
   "metadata": {},
   "outputs": [
    {
     "data": {
      "text/plain": [
       "array([ 7.82444593,  7.60140233,  7.60140233, ...,  7.60140233,\n",
       "        9.95683873, 10.30129004])"
      ]
     },
     "execution_count": 70,
     "metadata": {},
     "output_type": "execute_result"
    }
   ],
   "source": [
    "y_train"
   ]
  },
  {
   "cell_type": "markdown",
   "id": "09b2f8c9-bbc8-46b0-a112-0fcd6ee0f60d",
   "metadata": {},
   "source": [
    "##### Dealing with missing values"
   ]
  },
  {
   "cell_type": "code",
   "execution_count": 71,
   "id": "c90dd8f0-98cd-4b06-aef8-b4352e287f1a",
   "metadata": {},
   "outputs": [
    {
     "data": {
      "text/plain": [
       "engine_hp           37\n",
       "engine_cylinders    17\n",
       "highway_mpg          0\n",
       "city_mpg             0\n",
       "popularity           0\n",
       "dtype: int64"
      ]
     },
     "execution_count": 71,
     "metadata": {},
     "output_type": "execute_result"
    }
   ],
   "source": [
    "car_train[base].isnull().sum()"
   ]
  },
  {
   "cell_type": "code",
   "execution_count": 72,
   "id": "607bed61-dbc2-4be0-8385-4efc6fbdd113",
   "metadata": {},
   "outputs": [
    {
     "data": {
      "text/plain": [
       "engine_hp           0\n",
       "engine_cylinders    0\n",
       "highway_mpg         0\n",
       "city_mpg            0\n",
       "popularity          0\n",
       "dtype: int64"
      ]
     },
     "execution_count": 72,
     "metadata": {},
     "output_type": "execute_result"
    }
   ],
   "source": [
    "car_train[base].fillna(0).isnull().sum()"
   ]
  },
  {
   "cell_type": "code",
   "execution_count": 73,
   "id": "10aac8e6-f417-49f1-aa65-90dda84a530f",
   "metadata": {},
   "outputs": [],
   "source": [
    "X_train = car_train[base].fillna(0).values"
   ]
  },
  {
   "cell_type": "code",
   "execution_count": 74,
   "id": "c6d90e56-2894-46fb-9ec4-98c95124d988",
   "metadata": {},
   "outputs": [],
   "source": [
    "w0, w = train_linear_regression(X_train, y_train)"
   ]
  },
  {
   "cell_type": "code",
   "execution_count": 75,
   "id": "36b8cc5f-cb94-49a7-aa9b-9c948340d049",
   "metadata": {},
   "outputs": [],
   "source": [
    "y_pred = w0 + X_train.dot(w)"
   ]
  },
  {
   "cell_type": "code",
   "execution_count": 80,
   "id": "1fc0d8ac-5a51-43ea-a0c4-86af6a24bb1e",
   "metadata": {},
   "outputs": [
    {
     "data": {
      "text/plain": [
       "<matplotlib.legend.Legend at 0x75b831e8f6b0>"
      ]
     },
     "execution_count": 80,
     "metadata": {},
     "output_type": "execute_result"
    },
    {
     "data": {
      "image/png": "[encoded data removed]",
      "text/plain": [
       "<Figure size 640x480 with 1 Axes>"
      ]
     },
     "metadata": {},
     "output_type": "display_data"
    }
   ],
   "source": [
    "sns.histplot(y_pred, label=\"prediction\", alpha=0.5, bins = 50)\n",
    "sns.histplot(y_train, label=\"training\", alpha=0.5, bins = 50)\n",
    "plt.legend()"
   ]
  },
  {
   "cell_type": "markdown",
   "id": "a7071141-a1cd-492a-88fe-38c3932c4531",
   "metadata": {},
   "source": [
    "##### Note: The predicted model is in blue"
   ]
  },
  {
   "cell_type": "code",
   "execution_count": null,
   "id": "f25466a7-9d79-4775-9199-23cfebe72482",
   "metadata": {},
   "outputs": [],
   "source": []
  },
  {
   "cell_type": "markdown",
   "id": "1bc6dd68-7e46-48ec-931e-dd2d2208e609",
   "metadata": {},
   "source": [
    "#### Root Mean Square Error (RMSE) - a method of evaluating the regression model"
   ]
  },
  {
   "cell_type": "code",
   "execution_count": 81,
   "id": "dd2b8365-5f63-4f90-b03c-ac5f5d8a1866",
   "metadata": {},
   "outputs": [],
   "source": [
    "def rmse(y, y_pred):\n",
    "    se = (y - y_pred) ** 2\n",
    "    mse = se.mean()\n",
    "    return np.sqrt(mse)"
   ]
  },
  {
   "cell_type": "code",
   "execution_count": 82,
   "id": "3c5167ae-eab3-4ec8-bebb-8fae82c71355",
   "metadata": {},
   "outputs": [
    {
     "data": {
      "text/plain": [
       "np.float64(0.7530702635167188)"
      ]
     },
     "execution_count": 82,
     "metadata": {},
     "output_type": "execute_result"
    }
   ],
   "source": [
    "rmse(y_train, y_pred)"
   ]
  },
  {
   "cell_type": "code",
   "execution_count": null,
   "id": "2a9c4053-59b2-4b79-ab2c-ac7835ce47d9",
   "metadata": {},
   "outputs": [],
   "source": []
  },
  {
   "cell_type": "markdown",
   "id": "2b44242c-104a-4200-801a-c0e8bccb6764",
   "metadata": {},
   "source": [
    "### 4. Validating the model"
   ]
  },
  {
   "cell_type": "markdown",
   "id": "69b63b83-57e5-40a8-a706-4124b535d326",
   "metadata": {},
   "source": [
    "##### Recap: Below is the code for training the model"
   ]
  },
  {
   "cell_type": "code",
   "execution_count": 83,
   "id": "d19fd368-cab6-40bb-870b-6f004b8faeda",
   "metadata": {},
   "outputs": [],
   "source": [
    "base = ['engine_hp', 'engine_cylinders', 'highway_mpg', 'city_mpg', 'popularity']\n",
    "\n",
    "X_train = car_train[base].fillna(0).values\n",
    "\n",
    "w0, w = train_linear_regression(X_train, y_train)\n",
    "\n",
    "y_pred = w0 + X_train.dot(w)"
   ]
  },
  {
   "cell_type": "code",
   "execution_count": 84,
   "id": "1a18912c-8769-4c2e-a359-d70423c48cd7",
   "metadata": {},
   "outputs": [],
   "source": [
    "def prepare_X(car):\n",
    "    car_num = car[base]\n",
    "    car_num = car_num.fillna(0)\n",
    "    X = car_num.values\n",
    "    return X # expanding the second line of code - training data preparation"
   ]
  },
  {
   "cell_type": "code",
   "execution_count": null,
   "id": "f7514153-94e5-4d13-b27a-7a63107d2770",
   "metadata": {},
   "outputs": [],
   "source": []
  },
  {
   "cell_type": "markdown",
   "id": "47541f36-c1a2-4372-aba6-9dcd607e5a48",
   "metadata": {},
   "source": [
    "#### Now, applying the model to the validatation subset"
   ]
  },
  {
   "cell_type": "code",
   "execution_count": 85,
   "id": "6c4d00de-0d43-427a-9762-4839098832e4",
   "metadata": {},
   "outputs": [
    {
     "data": {
      "text/plain": [
       "np.float64(0.7460612947996883)"
      ]
     },
     "execution_count": 85,
     "metadata": {},
     "output_type": "execute_result"
    }
   ],
   "source": [
    "X_train = prepare_X(car_train)\n",
    "w0, w = train_linear_regression(X_train, y_train)\n",
    "\n",
    "X_val = prepare_X(car_val)\n",
    "y_pred = w0 + X_val.dot(w)\n",
    "\n",
    "rmse(y_val, y_pred)"
   ]
  },
  {
   "cell_type": "code",
   "execution_count": null,
   "id": "66033f9e-b7e2-4646-857a-e0820943aea0",
   "metadata": {},
   "outputs": [],
   "source": []
  },
  {
   "cell_type": "markdown",
   "id": "076fdcec-1727-47d0-b5c4-234271e312c5",
   "metadata": {},
   "source": [
    "#### Simple feature engineering\n",
    "\n",
    "###### adding more features to the model"
   ]
  },
  {
   "cell_type": "code",
   "execution_count": 86,
   "id": "2e14780c-1fab-4d5c-a872-e8bad352f120",
   "metadata": {},
   "outputs": [
    {
     "data": {
      "text/plain": [
       "0       17\n",
       "1       27\n",
       "2       22\n",
       "3        7\n",
       "4       15\n",
       "        ..\n",
       "7145     0\n",
       "7146     9\n",
       "7147    27\n",
       "7148     1\n",
       "7149     9\n",
       "Name: year, Length: 7150, dtype: int64"
      ]
     },
     "execution_count": 86,
     "metadata": {},
     "output_type": "execute_result"
    }
   ],
   "source": [
    "2017 - car_train.year"
   ]
  },
  {
   "cell_type": "code",
   "execution_count": 87,
   "id": "2ea1c318-a6fb-4970-b334-f6057187afe3",
   "metadata": {},
   "outputs": [],
   "source": [
    "def prepare_X(car):\n",
    "    car = car.copy() # to prevent the original dataframe from changing when adding a new feature\n",
    "    \n",
    "    car['age'] = 2017 - car.year\n",
    "    features = base + ['age']\n",
    "    \n",
    "    car_num = car[features]\n",
    "    car_num = car_num.fillna(0)\n",
    "    X = car_num.values\n",
    "    return X"
   ]
  },
  {
   "cell_type": "code",
   "execution_count": 88,
   "id": "ffc78719-c158-4ee6-a6ed-a3bcd3113d44",
   "metadata": {},
   "outputs": [],
   "source": [
    "X_train = prepare_X(car_train)"
   ]
  },
  {
   "cell_type": "code",
   "execution_count": 89,
   "id": "aa9c2a33-ba91-4920-b4b4-c0c630d568c0",
   "metadata": {},
   "outputs": [
    {
     "data": {
      "text/plain": [
       "array([[1.900e+02, 5.000e+00, 2.400e+01, 1.700e+01, 8.700e+02, 1.700e+01],\n",
       "       [1.050e+02, 4.000e+00, 2.500e+01, 2.100e+01, 5.490e+02, 2.700e+01],\n",
       "       [2.250e+02, 6.000e+00, 2.600e+01, 1.700e+01, 2.600e+01, 2.200e+01],\n",
       "       ...,\n",
       "       [1.140e+02, 4.000e+00, 2.600e+01, 1.900e+01, 8.700e+02, 2.700e+01],\n",
       "       [1.600e+02, 4.000e+00, 3.900e+01, 2.700e+01, 1.851e+03, 1.000e+00],\n",
       "       [2.600e+02, 6.000e+00, 2.400e+01, 1.600e+01, 5.657e+03, 9.000e+00]])"
      ]
     },
     "execution_count": 89,
     "metadata": {},
     "output_type": "execute_result"
    }
   ],
   "source": [
    "X_train"
   ]
  },
  {
   "cell_type": "code",
   "execution_count": 90,
   "id": "706986a1-a808-4e7c-9d94-3d02c604d3a4",
   "metadata": {},
   "outputs": [
    {
     "data": {
      "text/plain": [
       "np.float64(0.512385164444267)"
      ]
     },
     "execution_count": 90,
     "metadata": {},
     "output_type": "execute_result"
    }
   ],
   "source": [
    "X_train = prepare_X(car_train)\n",
    "w0, w = train_linear_regression(X_train, y_train)\n",
    "\n",
    "X_val = prepare_X(car_val)\n",
    "y_pred = w0 + X_val.dot(w)\n",
    "\n",
    "rmse(y_val, y_pred)"
   ]
  },
  {
   "cell_type": "markdown",
   "id": "f8f57abf-6c9d-4591-8e93-c6b072fd16d0",
   "metadata": {},
   "source": [
    "##### Note: Given the initial rmse of 0.75, there is an improvement in the model by adding a new feature. The rmse reduced to 0.51. This can be seen in a better alignment of the distribution between the predicted model and the validation model)."
   ]
  },
  {
   "cell_type": "code",
   "execution_count": 92,
   "id": "550102d3-d31c-4bd7-a6b7-c4bc8196fb61",
   "metadata": {},
   "outputs": [
    {
     "data": {
      "text/plain": [
       "<matplotlib.legend.Legend at 0x75b83121bd40>"
      ]
     },
     "execution_count": 92,
     "metadata": {},
     "output_type": "execute_result"
    },
    {
     "data": {
      "image/png": "[encoded data removed]",
      "text/plain": [
       "<Figure size 640x480 with 1 Axes>"
      ]
     },
     "metadata": {},
     "output_type": "display_data"
    }
   ],
   "source": [
    "sns.histplot(y_pred, alpha=0.5, label=\"prediction\", bins = 50, color = 'blue')\n",
    "sns.histplot(y_val, alpha=0.5, label=\"validation\", bins = 50, color = 'green')\n",
    "plt.legend()"
   ]
  },
  {
   "cell_type": "code",
   "execution_count": null,
   "id": "067e3e38-392f-432c-860a-0471a7b17b9d",
   "metadata": {},
   "outputs": [],
   "source": []
  },
  {
   "cell_type": "markdown",
   "id": "4bb89722-4686-493d-9761-92a1d4bab39d",
   "metadata": {},
   "source": [
    "#### Categorical variables"
   ]
  },
  {
   "cell_type": "code",
   "execution_count": 93,
   "id": "02df529f-2020-41d0-b3b9-f2bf66f3489d",
   "metadata": {},
   "outputs": [],
   "source": [
    "for v in [2, 3, 4]:   \n",
    "    car_train['num_doors_%s' % v] = (car_train.number_of_doors == v).astype('int')"
   ]
  },
  {
   "cell_type": "code",
   "execution_count": 94,
   "id": "113e993c-a637-42cd-9637-5a0501722746",
   "metadata": {},
   "outputs": [],
   "source": [
    "def prepare_X(car):\n",
    "    car = car.copy()\n",
    "    features = base.copy()\n",
    "    \n",
    "    car['age'] = 2017 - car.year\n",
    "    features.append('age')\n",
    "\n",
    "    for v in [2, 3, 4]:\n",
    "        car['num_doors_%s' % v] = (car.number_of_doors == v).astype('int')\n",
    "        features.append('num_doors_%s' % v)\n",
    "        \n",
    "    car_num = car[features]\n",
    "    car_num = car_num.fillna(0)\n",
    "    X = car_num.values\n",
    "    \n",
    "    return X"
   ]
  },
  {
   "cell_type": "code",
   "execution_count": 95,
   "id": "ff741f31-a8ac-4925-9b07-bdde486e8a02",
   "metadata": {},
   "outputs": [
    {
     "data": {
      "text/plain": [
       "array([[190.,   5.,  24., ...,   0.,   0.,   1.],\n",
       "       [105.,   4.,  25., ...,   1.,   0.,   0.],\n",
       "       [225.,   6.,  26., ...,   0.,   0.,   1.],\n",
       "       ...,\n",
       "       [114.,   4.,  26., ...,   0.,   0.,   1.],\n",
       "       [160.,   4.,  39., ...,   0.,   0.,   1.],\n",
       "       [260.,   6.,  24., ...,   0.,   0.,   1.]])"
      ]
     },
     "execution_count": 95,
     "metadata": {},
     "output_type": "execute_result"
    }
   ],
   "source": [
    "prepare_X(car_train)"
   ]
  },
  {
   "cell_type": "code",
   "execution_count": 96,
   "id": "7883bcf2-3806-41a9-bda7-162c37c8e98c",
   "metadata": {},
   "outputs": [
    {
     "data": {
      "text/plain": [
       "np.float64(0.5127833091911087)"
      ]
     },
     "execution_count": 96,
     "metadata": {},
     "output_type": "execute_result"
    }
   ],
   "source": [
    "X_train = prepare_X(car_train)\n",
    "w0, w = train_linear_regression(X_train, y_train)\n",
    "\n",
    "X_val = prepare_X(car_val)\n",
    "y_pred = w0 + X_val.dot(w)\n",
    "\n",
    "rmse(y_val, y_pred)"
   ]
  },
  {
   "cell_type": "markdown",
   "id": "d6c366ec-cc17-43e3-9653-48b5f9b5367b",
   "metadata": {},
   "source": [
    "##### The value of rmse by adding the number of doors `num_doors` makes the model a little worse, though the difference is neglible when compared to the rmse for the addition of the car's `age`, 0.512385164444267."
   ]
  },
  {
   "cell_type": "code",
   "execution_count": 97,
   "id": "e63e7dd8-2a15-4fe7-be88-ab9881fc6189",
   "metadata": {},
   "outputs": [
    {
     "data": {
      "text/plain": [
       "['chevrolet', 'ford', 'volkswagen', 'toyota', 'dodge']"
      ]
     },
     "execution_count": 97,
     "metadata": {},
     "output_type": "execute_result"
    }
   ],
   "source": [
    "makes = list(car.make.value_counts().head().index)\n",
    "makes"
   ]
  },
  {
   "cell_type": "markdown",
   "id": "7c907a72-cda6-4b31-9651-6718f329f87a",
   "metadata": {},
   "source": [
    "###### Above are the most popular car makes"
   ]
  },
  {
   "cell_type": "code",
   "execution_count": null,
   "id": "72dc1f05-43ec-4eff-81ba-b5d315f69354",
   "metadata": {},
   "outputs": [],
   "source": []
  },
  {
   "cell_type": "markdown",
   "id": "711f6de0-7335-442d-bff9-f5372c398e43",
   "metadata": {},
   "source": [
    "##### Testing if the addition of another feature, `car makes` improves the model"
   ]
  },
  {
   "cell_type": "code",
   "execution_count": 98,
   "id": "90e82db5-8925-4aa5-ba54-c216b2bad6cb",
   "metadata": {},
   "outputs": [],
   "source": [
    "def prepare_X(car):\n",
    "    car = car.copy()\n",
    "    features = base.copy()\n",
    "    \n",
    "    car['age'] = 2017 - car.year\n",
    "    features.append('age')\n",
    "\n",
    "    for v in [2, 3, 4]:\n",
    "        car['num_doors_%s' % v] = (car.number_of_doors == v).astype('int')\n",
    "        features.append('num_doors_%s' % v)\n",
    "\n",
    "    for v in makes:\n",
    "        car['make_%s' % v] = (car.make == v).astype('int')\n",
    "        features.append('make_%s' % v)\n",
    "        \n",
    "    car_num = car[features]\n",
    "    car_num = car_num.fillna(0)\n",
    "    X = car_num.values\n",
    "    \n",
    "    return X"
   ]
  },
  {
   "cell_type": "code",
   "execution_count": 99,
   "id": "d8abc31e-484b-4c8f-a3d2-bd7f1ffc9918",
   "metadata": {},
   "outputs": [
    {
     "data": {
      "text/plain": [
       "np.float64(0.5034208364677737)"
      ]
     },
     "execution_count": 99,
     "metadata": {},
     "output_type": "execute_result"
    }
   ],
   "source": [
    "X_train = prepare_X(car_train)\n",
    "w0, w = train_linear_regression(X_train, y_train)\n",
    "\n",
    "X_val = prepare_X(car_val)\n",
    "y_pred = w0 + X_val.dot(w)\n",
    "\n",
    "rmse(y_val, y_pred)"
   ]
  },
  {
   "cell_type": "markdown",
   "id": "cf9f9fda-c45f-4f5f-844c-a3944c826e3c",
   "metadata": {},
   "source": [
    "##### The value of rmse of `0.5034208364677737`shows that the model improved by the addition of `car makes` in the model. The previous values of rmse of the main features with `age` is `0.512385164444267` and that of adding `number of doors` is `0.5127833091911087`."
   ]
  },
  {
   "cell_type": "code",
   "execution_count": null,
   "id": "ee998b60-2167-4b1c-a453-0f94c99d46fb",
   "metadata": {},
   "outputs": [],
   "source": []
  },
  {
   "cell_type": "markdown",
   "id": "a8835372-59c7-4aeb-8d7a-1d813d86cee4",
   "metadata": {},
   "source": [
    "##### Adding the other categories to the model"
   ]
  },
  {
   "cell_type": "code",
   "execution_count": 100,
   "id": "2f3f1a80-b540-4ab8-982b-834a71d38785",
   "metadata": {},
   "outputs": [
    {
     "data": {
      "text/plain": [
       "make                  object\n",
       "model                 object\n",
       "year                   int64\n",
       "engine_fuel_type      object\n",
       "engine_hp            float64\n",
       "engine_cylinders     float64\n",
       "transmission_type     object\n",
       "driven_wheels         object\n",
       "number_of_doors      float64\n",
       "market_category       object\n",
       "vehicle_size          object\n",
       "vehicle_style         object\n",
       "highway_mpg            int64\n",
       "city_mpg               int64\n",
       "popularity             int64\n",
       "num_doors_2            int64\n",
       "num_doors_3            int64\n",
       "num_doors_4            int64\n",
       "dtype: object"
      ]
     },
     "execution_count": 100,
     "metadata": {},
     "output_type": "execute_result"
    }
   ],
   "source": [
    "car_train.dtypes"
   ]
  },
  {
   "cell_type": "code",
   "execution_count": 101,
   "id": "37733151-eff1-4d29-90eb-861a7eb3d0c6",
   "metadata": {},
   "outputs": [],
   "source": [
    "categorical_variables = ['make', 'engine_fuel_type', 'transmission_type', 'driven_wheels', \n",
    "              'market_category', 'vehicle_size', 'vehicle_style']"
   ]
  },
  {
   "cell_type": "code",
   "execution_count": 102,
   "id": "02df1c63-d634-48dd-b77d-cda7a8629d35",
   "metadata": {},
   "outputs": [],
   "source": [
    "categories = {}\n",
    "\n",
    "for c in categorical_variables:\n",
    "    categories[c] = list(car[c].value_counts().head().index)"
   ]
  },
  {
   "cell_type": "code",
   "execution_count": 103,
   "id": "07944e58-0484-4e52-af1f-3f58b87a293a",
   "metadata": {},
   "outputs": [
    {
     "data": {
      "text/plain": [
       "{'make': ['chevrolet', 'ford', 'volkswagen', 'toyota', 'dodge'],\n",
       " 'engine_fuel_type': ['regular_unleaded',\n",
       "  'premium_unleaded_(required)',\n",
       "  'premium_unleaded_(recommended)',\n",
       "  'flex-fuel_(unleaded/e85)',\n",
       "  'diesel'],\n",
       " 'transmission_type': ['automatic',\n",
       "  'manual',\n",
       "  'automated_manual',\n",
       "  'direct_drive',\n",
       "  'unknown'],\n",
       " 'driven_wheels': ['front_wheel_drive',\n",
       "  'rear_wheel_drive',\n",
       "  'all_wheel_drive',\n",
       "  'four_wheel_drive'],\n",
       " 'market_category': ['crossover',\n",
       "  'flex_fuel',\n",
       "  'luxury',\n",
       "  'luxury,performance',\n",
       "  'hatchback'],\n",
       " 'vehicle_size': ['compact', 'midsize', 'large'],\n",
       " 'vehicle_style': ['sedan',\n",
       "  '4dr_suv',\n",
       "  'coupe',\n",
       "  'convertible',\n",
       "  '4dr_hatchback']}"
      ]
     },
     "execution_count": 103,
     "metadata": {},
     "output_type": "execute_result"
    }
   ],
   "source": [
    "categories"
   ]
  },
  {
   "cell_type": "code",
   "execution_count": 104,
   "id": "fc582087-af3d-4344-b151-b25a049c4a82",
   "metadata": {},
   "outputs": [],
   "source": [
    "def prepare_X(car):\n",
    "    car = car.copy()\n",
    "    features = base.copy()\n",
    "    \n",
    "    car['age'] = 2017 - car.year\n",
    "    features.append('age')\n",
    "\n",
    "    for v in [2, 3, 4]:\n",
    "        car['num_doors_%s' % v] = (car.number_of_doors == v).astype('int')\n",
    "        features.append('num_doors_%s' % v)\n",
    "\n",
    "    for c, values in categories.items():\n",
    "        for v in values:\n",
    "            car['%s_%s' % (c, v)] = (car[c] == v).astype('int')\n",
    "            features.append('%s_%s' % (c, v))\n",
    "        \n",
    "    car_num = car[features]\n",
    "    car_num = car_num.fillna(0)\n",
    "    X = car_num.values\n",
    "    \n",
    "    return X"
   ]
  },
  {
   "cell_type": "code",
   "execution_count": 105,
   "id": "b8b23b16-f68f-4bb3-a0cc-fcf588c6835f",
   "metadata": {},
   "outputs": [
    {
     "data": {
      "text/plain": [
       "np.float64(127.0379788906335)"
      ]
     },
     "execution_count": 105,
     "metadata": {},
     "output_type": "execute_result"
    }
   ],
   "source": [
    "X_train = prepare_X(car_train)\n",
    "w0, w = train_linear_regression(X_train, y_train)\n",
    "\n",
    "X_val = prepare_X(car_val)\n",
    "y_pred = w0 + X_val.dot(w)\n",
    "\n",
    "rmse(y_val, y_pred)"
   ]
  },
  {
   "cell_type": "markdown",
   "id": "d66f8702-b2dc-4ffc-a6ae-1df61812573e",
   "metadata": {},
   "source": [
    "##### The rmse value upon adding more features made the model much worse rather than improve it."
   ]
  },
  {
   "cell_type": "code",
   "execution_count": null,
   "id": "f2bb0e8b-6cbe-45c4-b88d-c5e20d4c0834",
   "metadata": {},
   "outputs": [],
   "source": []
  },
  {
   "cell_type": "markdown",
   "id": "1a351ead-2cc3-417d-b12a-81342319e86c",
   "metadata": {},
   "source": [
    "### 5. Regularization"
   ]
  },
  {
   "cell_type": "code",
   "execution_count": 106,
   "id": "46aeb2f7-031d-4e3c-b9f7-71c96480a7f0",
   "metadata": {},
   "outputs": [
    {
     "data": {
      "text/plain": [
       "array([[4.        , 4.        , 4.        ],\n",
       "       [3.        , 5.        , 5.        ],\n",
       "       [5.        , 1.        , 1.        ],\n",
       "       [5.        , 4.        , 4.        ],\n",
       "       [7.        , 5.        , 5.        ],\n",
       "       [4.        , 5.        , 5.00000001]])"
      ]
     },
     "execution_count": 106,
     "metadata": {},
     "output_type": "execute_result"
    }
   ],
   "source": [
    "X = [\n",
    "    [4, 4, 4],\n",
    "    [3, 5, 5],\n",
    "    [5, 1, 1],\n",
    "    [5, 4, 4],\n",
    "    [7, 5, 5],\n",
    "    [4, 5, 5.00000001],\n",
    "]\n",
    "\n",
    "X = np.array(X)\n",
    "X"
   ]
  },
  {
   "cell_type": "code",
   "execution_count": 107,
   "id": "0612c3db-23f8-474e-9bf1-ac3476d0c743",
   "metadata": {},
   "outputs": [],
   "source": [
    "y = [1, 2, 3, 1, 2, 3]"
   ]
  },
  {
   "cell_type": "code",
   "execution_count": 108,
   "id": "19bd2370-47b1-4b2a-bd5a-e02ea043bfb0",
   "metadata": {},
   "outputs": [
    {
     "data": {
      "text/plain": [
       "array([[140.        , 111.        , 111.00000004],\n",
       "       [111.        , 108.        , 108.00000005],\n",
       "       [111.00000004, 108.00000005, 108.0000001 ]])"
      ]
     },
     "execution_count": 108,
     "metadata": {},
     "output_type": "execute_result"
    }
   ],
   "source": [
    "XTX = X.T.dot(X)\n",
    "XTX"
   ]
  },
  {
   "cell_type": "markdown",
   "id": "23acf255-bb9b-4157-9cdf-4dd020668332",
   "metadata": {},
   "source": [
    "##### Adding small numbers to the diagonal to control for singular matrices. The larger the numbers added to the diagonal, the better the weights are under control."
   ]
  },
  {
   "cell_type": "code",
   "execution_count": 109,
   "id": "66bcfa4f-6260-4082-9a64-7db61f091362",
   "metadata": {},
   "outputs": [],
   "source": [
    "XTX = [\n",
    "    [1.0001, 2, 2],\n",
    "    [2, 1.0001, 1.0000001],\n",
    "    [2, 1.0000001, 1.0001]\n",
    "]\n",
    "\n",
    "XTX  = np.array(XTX)"
   ]
  },
  {
   "cell_type": "code",
   "execution_count": 110,
   "id": "6dcde9a2-e45d-4804-81f4-12c708960784",
   "metadata": {},
   "outputs": [
    {
     "data": {
      "text/plain": [
       "array([[-3.33366691e-01,  3.33350007e-01,  3.33350007e-01],\n",
       "       [ 3.33350007e-01,  5.00492166e+03, -5.00508835e+03],\n",
       "       [ 3.33350007e-01, -5.00508835e+03,  5.00492166e+03]])"
      ]
     },
     "execution_count": 110,
     "metadata": {},
     "output_type": "execute_result"
    }
   ],
   "source": [
    "np.linalg.inv(XTX)"
   ]
  },
  {
   "cell_type": "code",
   "execution_count": 111,
   "id": "273a8630-c66a-4b66-ac83-b2d062b3555b",
   "metadata": {},
   "outputs": [],
   "source": [
    "XTX = [\n",
    "    [1, 2, 2],\n",
    "    [2, 1, 1.0000001],\n",
    "    [2, 1.0000001, 1]\n",
    "]\n",
    "\n",
    "XTX  = np.array(XTX)"
   ]
  },
  {
   "cell_type": "code",
   "execution_count": 112,
   "id": "4b99dfd5-21a1-4c19-aee6-43f19c8a24c5",
   "metadata": {},
   "outputs": [
    {
     "data": {
      "text/plain": [
       "array([[-3.33333356e-01,  3.33333339e-01,  3.33333339e-01],\n",
       "       [ 3.33333339e-01, -5.00000008e+06,  4.99999991e+06],\n",
       "       [ 3.33333339e-01,  4.99999991e+06, -5.00000008e+06]])"
      ]
     },
     "execution_count": 112,
     "metadata": {},
     "output_type": "execute_result"
    }
   ],
   "source": [
    "np.linalg.inv(XTX)"
   ]
  },
  {
   "cell_type": "code",
   "execution_count": null,
   "id": "a0ee370f-440f-4dd1-919c-71c593c91e09",
   "metadata": {},
   "outputs": [],
   "source": []
  },
  {
   "cell_type": "markdown",
   "id": "b9b61724-8557-4171-ac5d-6aa5221259ba",
   "metadata": {},
   "source": [
    "##### To add the same number to the diagonal, add the identity matrix"
   ]
  },
  {
   "cell_type": "code",
   "execution_count": 113,
   "id": "c1b198a4-bb58-4719-a480-33dd8628e1a0",
   "metadata": {},
   "outputs": [
    {
     "data": {
      "text/plain": [
       "array([[1., 0., 0.],\n",
       "       [0., 1., 0.],\n",
       "       [0., 0., 1.]])"
      ]
     },
     "execution_count": 113,
     "metadata": {},
     "output_type": "execute_result"
    }
   ],
   "source": [
    "np.eye(3)"
   ]
  },
  {
   "cell_type": "code",
   "execution_count": 114,
   "id": "3397fd91-8a31-4745-93f6-46ac39b1d172",
   "metadata": {},
   "outputs": [
    {
     "data": {
      "text/plain": [
       "array([[2.       , 2.       , 2.       ],\n",
       "       [2.       , 2.       , 1.0000001],\n",
       "       [2.       , 1.0000001, 2.       ]])"
      ]
     },
     "execution_count": 114,
     "metadata": {},
     "output_type": "execute_result"
    }
   ],
   "source": [
    "XTX + np.eye(3)"
   ]
  },
  {
   "cell_type": "code",
   "execution_count": null,
   "id": "40c837dd-3ae7-4889-80a4-8cadf6a5d0a3",
   "metadata": {},
   "outputs": [],
   "source": []
  },
  {
   "cell_type": "markdown",
   "id": "7784fa13-9813-415c-b0da-aef65601bdab",
   "metadata": {},
   "source": [
    "##### Further, multiply the identity matrix by a number. The larger the multiplier, the better controlled the weights on the diagonal are. => Regularization"
   ]
  },
  {
   "cell_type": "code",
   "execution_count": 115,
   "id": "0d5884ab-34ca-455d-81cf-79e466657a20",
   "metadata": {},
   "outputs": [],
   "source": [
    "XTX = XTX + 0.01 * np.eye(3)"
   ]
  },
  {
   "cell_type": "code",
   "execution_count": 116,
   "id": "411639a2-ad4c-479a-8a4a-ca60c583ce3f",
   "metadata": {},
   "outputs": [
    {
     "data": {
      "text/plain": [
       "array([[ -0.33668908,   0.33501399,   0.33501399],\n",
       "       [  0.33501399,  49.91590897, -50.08509104],\n",
       "       [  0.33501399, -50.08509104,  49.91590897]])"
      ]
     },
     "execution_count": 116,
     "metadata": {},
     "output_type": "execute_result"
    }
   ],
   "source": [
    "np.linalg.inv(XTX)"
   ]
  },
  {
   "cell_type": "code",
   "execution_count": null,
   "id": "8a9659ac-ad62-49df-a22d-9eaa73b59c05",
   "metadata": {},
   "outputs": [],
   "source": []
  },
  {
   "cell_type": "markdown",
   "id": "ddadc04f-8cc7-46a5-b047-2ed88b3dcf52",
   "metadata": {},
   "source": [
    "##### Back to fixing the error encountered with adding more features, specifically the problem of duplicated columns"
   ]
  },
  {
   "cell_type": "code",
   "execution_count": 117,
   "id": "c85cfe17-8f8c-47c4-aae2-635a0f6a1326",
   "metadata": {},
   "outputs": [],
   "source": [
    "XTX = [\n",
    "    [1, 2, 2],\n",
    "    [2, 1, 1.0000001],\n",
    "    [2, 1.0000001, 1]\n",
    "]\n",
    "\n",
    "XTX  = np.array(XTX)"
   ]
  },
  {
   "cell_type": "code",
   "execution_count": 118,
   "id": "f069cc32-6116-4eac-b599-f2d12364f2a3",
   "metadata": {},
   "outputs": [
    {
     "data": {
      "text/plain": [
       "array([[-3.33333356e-01,  3.33333339e-01,  3.33333339e-01],\n",
       "       [ 3.33333339e-01, -5.00000008e+06,  4.99999991e+06],\n",
       "       [ 3.33333339e-01,  4.99999991e+06, -5.00000008e+06]])"
      ]
     },
     "execution_count": 118,
     "metadata": {},
     "output_type": "execute_result"
    }
   ],
   "source": [
    "np.linalg.inv(XTX)"
   ]
  },
  {
   "cell_type": "code",
   "execution_count": 119,
   "id": "7fd8a45f-35c0-4e67-9c64-f9c346fdf144",
   "metadata": {},
   "outputs": [],
   "source": [
    "def train_linear_regression_reg(X, y, r=0.001):\n",
    "    ones = np.ones(X.shape[0])\n",
    "    X = np.column_stack([ones, X])\n",
    "\n",
    "    XTX = X.T.dot(X)\n",
    "    XTX = XTX + r * np.eye(XTX.shape[0])\n",
    "    \n",
    "    XTX_inv = np.linalg.inv(XTX)\n",
    "    w_full = XTX_inv.dot(X.T).dot(y)\n",
    "\n",
    "    return w_full[0], w_full[1:]"
   ]
  },
  {
   "cell_type": "code",
   "execution_count": 120,
   "id": "09101588-2a18-46b4-8abb-eba3b941db82",
   "metadata": {},
   "outputs": [
    {
     "data": {
      "text/plain": [
       "np.float64(0.45623618291773227)"
      ]
     },
     "execution_count": 120,
     "metadata": {},
     "output_type": "execute_result"
    }
   ],
   "source": [
    "X_train = prepare_X(car_train)\n",
    "w0, w = train_linear_regression_reg(X_train, y_train, r=0.01)\n",
    "\n",
    "X_val = prepare_X(car_val)\n",
    "y_pred = w0 + X_val.dot(w)\n",
    "\n",
    "rmse(y_val, y_pred)"
   ]
  },
  {
   "cell_type": "markdown",
   "id": "ce3d5c2e-6f0e-4e48-877b-d189a4cfab41",
   "metadata": {},
   "source": [
    "##### Adding weights to the diagonal (regularization) has now led to an improved model."
   ]
  },
  {
   "cell_type": "code",
   "execution_count": null,
   "id": "9b69a997-c007-4eaf-b443-69da1899b6bb",
   "metadata": {},
   "outputs": [],
   "source": []
  },
  {
   "cell_type": "markdown",
   "id": "6ec78cdf-aee4-4722-8d6a-c569d8e052cf",
   "metadata": {},
   "source": [
    "#### Tuning the model: finding the best value for `r`."
   ]
  },
  {
   "cell_type": "code",
   "execution_count": 121,
   "id": "ef9d9d33-bb58-4f50-b9fd-8cecb27b6541",
   "metadata": {},
   "outputs": [
    {
     "name": "stdout",
     "output_type": "stream",
     "text": [
      "0.0 -4.157446598316366e+16 127.0379788906335\n",
      "1e-05 6.436854174486965 0.45624049194541627\n",
      "0.0001 6.326023289713159 0.456240480913012\n",
      "0.001 6.343887756935074 0.4562400853882689\n",
      "0.1 6.212931220379195 0.456202374859242\n",
      "1 5.554566565994029 0.4562118214576017\n",
      "10 4.251198788535283 0.4668718633832989\n"
     ]
    }
   ],
   "source": [
    "for r in [0.0, 0.00001, 0.0001, 0.001, 0.1, 1, 10]:\n",
    "    X_train = prepare_X(car_train)\n",
    "    w0, w = train_linear_regression_reg(X_train, y_train, r=r)\n",
    "\n",
    "    X_val = prepare_X(car_val)\n",
    "    y_pred = w0 + X_val.dot(w)\n",
    "    score = rmse(y_val, y_pred)\n",
    "    \n",
    "    print(r, w0, score)"
   ]
  },
  {
   "cell_type": "code",
   "execution_count": null,
   "id": "642e8892-2f73-4400-bb77-8f32e3e2f722",
   "metadata": {},
   "outputs": [],
   "source": []
  },
  {
   "cell_type": "markdown",
   "id": "11fe5b9b-31e8-44f4-9400-7fc007f08f0f",
   "metadata": {},
   "source": [
    "#### Training the model with the best regularization parameter"
   ]
  },
  {
   "cell_type": "code",
   "execution_count": 122,
   "id": "a587a1cb-f2e3-4fdb-88bf-b000a95c9fd5",
   "metadata": {},
   "outputs": [
    {
     "data": {
      "text/plain": [
       "np.float64(0.4562400853882689)"
      ]
     },
     "execution_count": 122,
     "metadata": {},
     "output_type": "execute_result"
    }
   ],
   "source": [
    "r = 0.001\n",
    "X_train = prepare_X(car_train)\n",
    "w0, w = train_linear_regression_reg(X_train, y_train, r=r)\n",
    "\n",
    "X_val = prepare_X(car_val)\n",
    "y_pred = w0 + X_val.dot(w)\n",
    "score = rmse(y_val, y_pred)\n",
    "score"
   ]
  },
  {
   "cell_type": "code",
   "execution_count": null,
   "id": "38d51eea-19ac-4ba7-a360-b861ed421dec",
   "metadata": {},
   "outputs": [],
   "source": []
  },
  {
   "cell_type": "markdown",
   "id": "cd91ab40-ea0c-4a18-8e76-93a1bd7b890d",
   "metadata": {},
   "source": [
    "### 6. Using the model"
   ]
  },
  {
   "cell_type": "markdown",
   "id": "2d1d54f3-f360-4082-b2cc-bdf3f688ffe2",
   "metadata": {},
   "source": [
    "#### This involves combining the training and validation subsets for the features (the Xs), and the target variable, the price."
   ]
  },
  {
   "cell_type": "code",
   "execution_count": 123,
   "id": "30a54e62-5be2-4e4c-84fd-7af49427ae08",
   "metadata": {},
   "outputs": [],
   "source": [
    "car_full_train = pd.concat([car_train, car_val])"
   ]
  },
  {
   "cell_type": "code",
   "execution_count": 124,
   "id": "d5a15666-2264-4cdd-84b1-73625a2b3d00",
   "metadata": {},
   "outputs": [],
   "source": [
    "car_full_train = car_full_train.reset_index(drop=True)"
   ]
  },
  {
   "cell_type": "code",
   "execution_count": 125,
   "id": "ca086849-d65c-4327-b24f-e31e3f291550",
   "metadata": {},
   "outputs": [
    {
     "data": {
      "text/html": [
       "<div>\n",
       "<style scoped>\n",
       "    .dataframe tbody tr th:only-of-type {\n",
       "        vertical-align: middle;\n",
       "    }\n",
       "\n",
       "    .dataframe tbody tr th {\n",
       "        vertical-align: top;\n",
       "    }\n",
       "\n",
       "    .dataframe thead th {\n",
       "        text-align: right;\n",
       "    }\n",
       "</style>\n",
       "<table border=\"1\" class=\"dataframe\">\n",
       "  <thead>\n",
       "    <tr style=\"text-align: right;\">\n",
       "      <th></th>\n",
       "      <th>make</th>\n",
       "      <th>model</th>\n",
       "      <th>year</th>\n",
       "      <th>engine_fuel_type</th>\n",
       "      <th>engine_hp</th>\n",
       "      <th>engine_cylinders</th>\n",
       "      <th>transmission_type</th>\n",
       "      <th>driven_wheels</th>\n",
       "      <th>number_of_doors</th>\n",
       "      <th>market_category</th>\n",
       "      <th>vehicle_size</th>\n",
       "      <th>vehicle_style</th>\n",
       "      <th>highway_mpg</th>\n",
       "      <th>city_mpg</th>\n",
       "      <th>popularity</th>\n",
       "      <th>num_doors_2</th>\n",
       "      <th>num_doors_3</th>\n",
       "      <th>num_doors_4</th>\n",
       "    </tr>\n",
       "  </thead>\n",
       "  <tbody>\n",
       "    <tr>\n",
       "      <th>0</th>\n",
       "      <td>volvo</td>\n",
       "      <td>s70</td>\n",
       "      <td>2000</td>\n",
       "      <td>regular_unleaded</td>\n",
       "      <td>190.0</td>\n",
       "      <td>5.0</td>\n",
       "      <td>automatic</td>\n",
       "      <td>front_wheel_drive</td>\n",
       "      <td>4.0</td>\n",
       "      <td>luxury</td>\n",
       "      <td>midsize</td>\n",
       "      <td>sedan</td>\n",
       "      <td>24</td>\n",
       "      <td>17</td>\n",
       "      <td>870</td>\n",
       "      <td>0.0</td>\n",
       "      <td>0.0</td>\n",
       "      <td>1.0</td>\n",
       "    </tr>\n",
       "    <tr>\n",
       "      <th>1</th>\n",
       "      <td>gmc</td>\n",
       "      <td>s-15</td>\n",
       "      <td>1990</td>\n",
       "      <td>regular_unleaded</td>\n",
       "      <td>105.0</td>\n",
       "      <td>4.0</td>\n",
       "      <td>manual</td>\n",
       "      <td>rear_wheel_drive</td>\n",
       "      <td>2.0</td>\n",
       "      <td>NaN</td>\n",
       "      <td>compact</td>\n",
       "      <td>extended_cab_pickup</td>\n",
       "      <td>25</td>\n",
       "      <td>21</td>\n",
       "      <td>549</td>\n",
       "      <td>1.0</td>\n",
       "      <td>0.0</td>\n",
       "      <td>0.0</td>\n",
       "    </tr>\n",
       "    <tr>\n",
       "      <th>2</th>\n",
       "      <td>oldsmobile</td>\n",
       "      <td>ninety-eight</td>\n",
       "      <td>1995</td>\n",
       "      <td>regular_unleaded</td>\n",
       "      <td>225.0</td>\n",
       "      <td>6.0</td>\n",
       "      <td>automatic</td>\n",
       "      <td>front_wheel_drive</td>\n",
       "      <td>4.0</td>\n",
       "      <td>NaN</td>\n",
       "      <td>large</td>\n",
       "      <td>sedan</td>\n",
       "      <td>26</td>\n",
       "      <td>17</td>\n",
       "      <td>26</td>\n",
       "      <td>0.0</td>\n",
       "      <td>0.0</td>\n",
       "      <td>1.0</td>\n",
       "    </tr>\n",
       "    <tr>\n",
       "      <th>3</th>\n",
       "      <td>aston_martin</td>\n",
       "      <td>dbs</td>\n",
       "      <td>2010</td>\n",
       "      <td>premium_unleaded_(required)</td>\n",
       "      <td>510.0</td>\n",
       "      <td>12.0</td>\n",
       "      <td>automatic</td>\n",
       "      <td>rear_wheel_drive</td>\n",
       "      <td>2.0</td>\n",
       "      <td>exotic,high-performance</td>\n",
       "      <td>midsize</td>\n",
       "      <td>convertible</td>\n",
       "      <td>18</td>\n",
       "      <td>12</td>\n",
       "      <td>259</td>\n",
       "      <td>1.0</td>\n",
       "      <td>0.0</td>\n",
       "      <td>0.0</td>\n",
       "    </tr>\n",
       "    <tr>\n",
       "      <th>4</th>\n",
       "      <td>chevrolet</td>\n",
       "      <td>s-10</td>\n",
       "      <td>2002</td>\n",
       "      <td>regular_unleaded</td>\n",
       "      <td>190.0</td>\n",
       "      <td>6.0</td>\n",
       "      <td>automatic</td>\n",
       "      <td>rear_wheel_drive</td>\n",
       "      <td>2.0</td>\n",
       "      <td>performance</td>\n",
       "      <td>compact</td>\n",
       "      <td>regular_cab_pickup</td>\n",
       "      <td>20</td>\n",
       "      <td>15</td>\n",
       "      <td>1385</td>\n",
       "      <td>1.0</td>\n",
       "      <td>0.0</td>\n",
       "      <td>0.0</td>\n",
       "    </tr>\n",
       "    <tr>\n",
       "      <th>...</th>\n",
       "      <td>...</td>\n",
       "      <td>...</td>\n",
       "      <td>...</td>\n",
       "      <td>...</td>\n",
       "      <td>...</td>\n",
       "      <td>...</td>\n",
       "      <td>...</td>\n",
       "      <td>...</td>\n",
       "      <td>...</td>\n",
       "      <td>...</td>\n",
       "      <td>...</td>\n",
       "      <td>...</td>\n",
       "      <td>...</td>\n",
       "      <td>...</td>\n",
       "      <td>...</td>\n",
       "      <td>...</td>\n",
       "      <td>...</td>\n",
       "      <td>...</td>\n",
       "    </tr>\n",
       "    <tr>\n",
       "      <th>9527</th>\n",
       "      <td>bmw</td>\n",
       "      <td>activehybrid_7</td>\n",
       "      <td>2014</td>\n",
       "      <td>premium_unleaded_(required)</td>\n",
       "      <td>350.0</td>\n",
       "      <td>6.0</td>\n",
       "      <td>automatic</td>\n",
       "      <td>rear_wheel_drive</td>\n",
       "      <td>4.0</td>\n",
       "      <td>luxury,performance,hybrid</td>\n",
       "      <td>large</td>\n",
       "      <td>sedan</td>\n",
       "      <td>30</td>\n",
       "      <td>22</td>\n",
       "      <td>3916</td>\n",
       "      <td>NaN</td>\n",
       "      <td>NaN</td>\n",
       "      <td>NaN</td>\n",
       "    </tr>\n",
       "    <tr>\n",
       "      <th>9528</th>\n",
       "      <td>volkswagen</td>\n",
       "      <td>phaeton</td>\n",
       "      <td>2004</td>\n",
       "      <td>premium_unleaded_(recommended)</td>\n",
       "      <td>420.0</td>\n",
       "      <td>12.0</td>\n",
       "      <td>automatic</td>\n",
       "      <td>all_wheel_drive</td>\n",
       "      <td>4.0</td>\n",
       "      <td>luxury,performance</td>\n",
       "      <td>large</td>\n",
       "      <td>sedan</td>\n",
       "      <td>17</td>\n",
       "      <td>11</td>\n",
       "      <td>873</td>\n",
       "      <td>NaN</td>\n",
       "      <td>NaN</td>\n",
       "      <td>NaN</td>\n",
       "    </tr>\n",
       "    <tr>\n",
       "      <th>9529</th>\n",
       "      <td>infiniti</td>\n",
       "      <td>q70</td>\n",
       "      <td>2015</td>\n",
       "      <td>premium_unleaded_(required)</td>\n",
       "      <td>330.0</td>\n",
       "      <td>6.0</td>\n",
       "      <td>automatic</td>\n",
       "      <td>rear_wheel_drive</td>\n",
       "      <td>4.0</td>\n",
       "      <td>luxury,performance</td>\n",
       "      <td>large</td>\n",
       "      <td>sedan</td>\n",
       "      <td>26</td>\n",
       "      <td>18</td>\n",
       "      <td>190</td>\n",
       "      <td>NaN</td>\n",
       "      <td>NaN</td>\n",
       "      <td>NaN</td>\n",
       "    </tr>\n",
       "    <tr>\n",
       "      <th>9530</th>\n",
       "      <td>nissan</td>\n",
       "      <td>truck</td>\n",
       "      <td>1996</td>\n",
       "      <td>regular_unleaded</td>\n",
       "      <td>134.0</td>\n",
       "      <td>4.0</td>\n",
       "      <td>manual</td>\n",
       "      <td>four_wheel_drive</td>\n",
       "      <td>2.0</td>\n",
       "      <td>NaN</td>\n",
       "      <td>compact</td>\n",
       "      <td>extended_cab_pickup</td>\n",
       "      <td>18</td>\n",
       "      <td>15</td>\n",
       "      <td>2009</td>\n",
       "      <td>NaN</td>\n",
       "      <td>NaN</td>\n",
       "      <td>NaN</td>\n",
       "    </tr>\n",
       "    <tr>\n",
       "      <th>9531</th>\n",
       "      <td>volkswagen</td>\n",
       "      <td>gti</td>\n",
       "      <td>2012</td>\n",
       "      <td>premium_unleaded_(recommended)</td>\n",
       "      <td>200.0</td>\n",
       "      <td>4.0</td>\n",
       "      <td>manual</td>\n",
       "      <td>front_wheel_drive</td>\n",
       "      <td>4.0</td>\n",
       "      <td>hatchback,performance</td>\n",
       "      <td>compact</td>\n",
       "      <td>4dr_hatchback</td>\n",
       "      <td>31</td>\n",
       "      <td>21</td>\n",
       "      <td>873</td>\n",
       "      <td>NaN</td>\n",
       "      <td>NaN</td>\n",
       "      <td>NaN</td>\n",
       "    </tr>\n",
       "  </tbody>\n",
       "</table>\n",
       "<p>9532 rows × 18 columns</p>\n",
       "</div>"
      ],
      "text/plain": [
       "              make           model  year                engine_fuel_type  \\\n",
       "0            volvo             s70  2000                regular_unleaded   \n",
       "1              gmc            s-15  1990                regular_unleaded   \n",
       "2       oldsmobile    ninety-eight  1995                regular_unleaded   \n",
       "3     aston_martin             dbs  2010     premium_unleaded_(required)   \n",
       "4        chevrolet            s-10  2002                regular_unleaded   \n",
       "...            ...             ...   ...                             ...   \n",
       "9527           bmw  activehybrid_7  2014     premium_unleaded_(required)   \n",
       "9528    volkswagen         phaeton  2004  premium_unleaded_(recommended)   \n",
       "9529      infiniti             q70  2015     premium_unleaded_(required)   \n",
       "9530        nissan           truck  1996                regular_unleaded   \n",
       "9531    volkswagen             gti  2012  premium_unleaded_(recommended)   \n",
       "\n",
       "      engine_hp  engine_cylinders transmission_type      driven_wheels  \\\n",
       "0         190.0               5.0         automatic  front_wheel_drive   \n",
       "1         105.0               4.0            manual   rear_wheel_drive   \n",
       "2         225.0               6.0         automatic  front_wheel_drive   \n",
       "3         510.0              12.0         automatic   rear_wheel_drive   \n",
       "4         190.0               6.0         automatic   rear_wheel_drive   \n",
       "...         ...               ...               ...                ...   \n",
       "9527      350.0               6.0         automatic   rear_wheel_drive   \n",
       "9528      420.0              12.0         automatic    all_wheel_drive   \n",
       "9529      330.0               6.0         automatic   rear_wheel_drive   \n",
       "9530      134.0               4.0            manual   four_wheel_drive   \n",
       "9531      200.0               4.0            manual  front_wheel_drive   \n",
       "\n",
       "      number_of_doors            market_category vehicle_size  \\\n",
       "0                 4.0                     luxury      midsize   \n",
       "1                 2.0                        NaN      compact   \n",
       "2                 4.0                        NaN        large   \n",
       "3                 2.0    exotic,high-performance      midsize   \n",
       "4                 2.0                performance      compact   \n",
       "...               ...                        ...          ...   \n",
       "9527              4.0  luxury,performance,hybrid        large   \n",
       "9528              4.0         luxury,performance        large   \n",
       "9529              4.0         luxury,performance        large   \n",
       "9530              2.0                        NaN      compact   \n",
       "9531              4.0      hatchback,performance      compact   \n",
       "\n",
       "            vehicle_style  highway_mpg  city_mpg  popularity  num_doors_2  \\\n",
       "0                   sedan           24        17         870          0.0   \n",
       "1     extended_cab_pickup           25        21         549          1.0   \n",
       "2                   sedan           26        17          26          0.0   \n",
       "3             convertible           18        12         259          1.0   \n",
       "4      regular_cab_pickup           20        15        1385          1.0   \n",
       "...                   ...          ...       ...         ...          ...   \n",
       "9527                sedan           30        22        3916          NaN   \n",
       "9528                sedan           17        11         873          NaN   \n",
       "9529                sedan           26        18         190          NaN   \n",
       "9530  extended_cab_pickup           18        15        2009          NaN   \n",
       "9531        4dr_hatchback           31        21         873          NaN   \n",
       "\n",
       "      num_doors_3  num_doors_4  \n",
       "0             0.0          1.0  \n",
       "1             0.0          0.0  \n",
       "2             0.0          1.0  \n",
       "3             0.0          0.0  \n",
       "4             0.0          0.0  \n",
       "...           ...          ...  \n",
       "9527          NaN          NaN  \n",
       "9528          NaN          NaN  \n",
       "9529          NaN          NaN  \n",
       "9530          NaN          NaN  \n",
       "9531          NaN          NaN  \n",
       "\n",
       "[9532 rows x 18 columns]"
      ]
     },
     "execution_count": 125,
     "metadata": {},
     "output_type": "execute_result"
    }
   ],
   "source": [
    "car_full_train"
   ]
  },
  {
   "cell_type": "code",
   "execution_count": 126,
   "id": "4d7547e7-e0f1-4b4e-9ca5-6dce0df20a9f",
   "metadata": {},
   "outputs": [],
   "source": [
    "X_full_train = prepare_X(car_full_train)"
   ]
  },
  {
   "cell_type": "code",
   "execution_count": 127,
   "id": "ebabf774-679b-4935-9cc3-8bb402b8f553",
   "metadata": {},
   "outputs": [
    {
     "data": {
      "text/plain": [
       "array([[190.,   5.,  24., ...,   0.,   0.,   0.],\n",
       "       [105.,   4.,  25., ...,   0.,   0.,   0.],\n",
       "       [225.,   6.,  26., ...,   0.,   0.,   0.],\n",
       "       ...,\n",
       "       [330.,   6.,  26., ...,   0.,   0.,   0.],\n",
       "       [134.,   4.,  18., ...,   0.,   0.,   0.],\n",
       "       [200.,   4.,  31., ...,   0.,   0.,   1.]])"
      ]
     },
     "execution_count": 127,
     "metadata": {},
     "output_type": "execute_result"
    }
   ],
   "source": [
    "X_full_train"
   ]
  },
  {
   "cell_type": "code",
   "execution_count": 128,
   "id": "bd38b28b-725e-4551-b307-11ed5b284ca2",
   "metadata": {},
   "outputs": [],
   "source": [
    "y_full_train = np.concatenate([y_train, y_val])"
   ]
  },
  {
   "cell_type": "code",
   "execution_count": 129,
   "id": "2f36d55a-eb3d-41b7-8e19-13c6be8f788b",
   "metadata": {},
   "outputs": [],
   "source": [
    "w0, w = train_linear_regression_reg(X_full_train, y_full_train, r=0.001)"
   ]
  },
  {
   "cell_type": "code",
   "execution_count": 130,
   "id": "661541ea-f530-407b-921c-8c2ef26de0a5",
   "metadata": {},
   "outputs": [
    {
     "data": {
      "text/plain": [
       "array([ 1.57093863e-03,  1.17613497e-01, -7.14905744e-03, -4.86271540e-03,\n",
       "       -5.84656975e-05, -9.63786019e-02, -7.94083425e-01, -9.02991401e-01,\n",
       "       -6.44417021e-01, -3.13381973e-02,  2.08829695e-01, -1.00362366e-03,\n",
       "       -9.62749480e-02, -7.94275787e-02, -4.66898864e-01,  8.92021086e-02,\n",
       "       -3.18948705e-01, -5.40188233e-01, -7.78784925e-02,  1.10065740e+00,\n",
       "        9.08664052e-01,  1.15651506e+00,  2.64600153e+00,  5.15311327e-01,\n",
       "        1.63127855e+00,  1.53283129e+00,  1.61750158e+00,  1.54873286e+00,\n",
       "       -7.46299930e-02,  2.89773344e-02, -4.71533112e-02, -5.90652470e-03,\n",
       "       -1.70968484e-02,  2.19915661e+00,  2.07553455e+00,  2.05516186e+00,\n",
       "       -4.73233775e-02,  3.12572045e-02,  1.80763949e-01,  3.22001599e-01,\n",
       "       -1.58485027e-01])"
      ]
     },
     "execution_count": 130,
     "metadata": {},
     "output_type": "execute_result"
    }
   ],
   "source": [
    "w"
   ]
  },
  {
   "cell_type": "markdown",
   "id": "2c8b5c75-1000-4ae9-a92c-1160f20e137a",
   "metadata": {},
   "source": [
    "#### ...and testing on the test data subset"
   ]
  },
  {
   "cell_type": "code",
   "execution_count": 131,
   "id": "c71f60fa-ead5-41ff-b188-d9c1931be122",
   "metadata": {},
   "outputs": [
    {
     "data": {
      "text/plain": [
       "np.float64(0.45434709240692966)"
      ]
     },
     "execution_count": 131,
     "metadata": {},
     "output_type": "execute_result"
    }
   ],
   "source": [
    "X_test = prepare_X(car_test)\n",
    "y_pred = w0 + X_test.dot(w)\n",
    "score = rmse(y_test, y_pred)\n",
    "score"
   ]
  },
  {
   "cell_type": "markdown",
   "id": "22974382-5a0f-4e02-8ab6-1603fb900297",
   "metadata": {},
   "source": [
    "##### The relatively lower rmse for the test data subset shows that the model can generalize well"
   ]
  },
  {
   "cell_type": "code",
   "execution_count": null,
   "id": "cdb39fc1-77a3-4753-a6d3-904b0fe28b7d",
   "metadata": {},
   "outputs": [],
   "source": []
  },
  {
   "cell_type": "markdown",
   "id": "302c56b8-d6f4-4669-9521-acf8cd4fa884",
   "metadata": {},
   "source": [
    "### Using the final model to predict the price of a car price"
   ]
  },
  {
   "cell_type": "code",
   "execution_count": 132,
   "id": "4e9b1e6b-c87c-4fef-98ee-ecd04af4ed98",
   "metadata": {},
   "outputs": [
    {
     "data": {
      "text/plain": [
       "{'make': 'hyundai',\n",
       " 'model': 'sonata',\n",
       " 'year': 2017,\n",
       " 'engine_fuel_type': 'regular_unleaded',\n",
       " 'engine_hp': 185.0,\n",
       " 'engine_cylinders': 4.0,\n",
       " 'transmission_type': 'automatic',\n",
       " 'driven_wheels': 'front_wheel_drive',\n",
       " 'number_of_doors': 4.0,\n",
       " 'market_category': nan,\n",
       " 'vehicle_size': 'midsize',\n",
       " 'vehicle_style': 'sedan',\n",
       " 'highway_mpg': 36,\n",
       " 'city_mpg': 25,\n",
       " 'popularity': 1439}"
      ]
     },
     "execution_count": 132,
     "metadata": {},
     "output_type": "execute_result"
    }
   ],
   "source": [
    "new_car = car_test.iloc[24].to_dict()\n",
    "new_car"
   ]
  },
  {
   "cell_type": "code",
   "execution_count": 133,
   "id": "400f332e-9266-442c-bb47-51da4e405e2b",
   "metadata": {},
   "outputs": [
    {
     "data": {
      "text/html": [
       "<div>\n",
       "<style scoped>\n",
       "    .dataframe tbody tr th:only-of-type {\n",
       "        vertical-align: middle;\n",
       "    }\n",
       "\n",
       "    .dataframe tbody tr th {\n",
       "        vertical-align: top;\n",
       "    }\n",
       "\n",
       "    .dataframe thead th {\n",
       "        text-align: right;\n",
       "    }\n",
       "</style>\n",
       "<table border=\"1\" class=\"dataframe\">\n",
       "  <thead>\n",
       "    <tr style=\"text-align: right;\">\n",
       "      <th></th>\n",
       "      <th>make</th>\n",
       "      <th>model</th>\n",
       "      <th>year</th>\n",
       "      <th>engine_fuel_type</th>\n",
       "      <th>engine_hp</th>\n",
       "      <th>engine_cylinders</th>\n",
       "      <th>transmission_type</th>\n",
       "      <th>driven_wheels</th>\n",
       "      <th>number_of_doors</th>\n",
       "      <th>market_category</th>\n",
       "      <th>vehicle_size</th>\n",
       "      <th>vehicle_style</th>\n",
       "      <th>highway_mpg</th>\n",
       "      <th>city_mpg</th>\n",
       "      <th>popularity</th>\n",
       "    </tr>\n",
       "  </thead>\n",
       "  <tbody>\n",
       "    <tr>\n",
       "      <th>0</th>\n",
       "      <td>hyundai</td>\n",
       "      <td>sonata</td>\n",
       "      <td>2017</td>\n",
       "      <td>regular_unleaded</td>\n",
       "      <td>185.0</td>\n",
       "      <td>4.0</td>\n",
       "      <td>automatic</td>\n",
       "      <td>front_wheel_drive</td>\n",
       "      <td>4.0</td>\n",
       "      <td>NaN</td>\n",
       "      <td>midsize</td>\n",
       "      <td>sedan</td>\n",
       "      <td>36</td>\n",
       "      <td>25</td>\n",
       "      <td>1439</td>\n",
       "    </tr>\n",
       "  </tbody>\n",
       "</table>\n",
       "</div>"
      ],
      "text/plain": [
       "      make   model  year  engine_fuel_type  engine_hp  engine_cylinders  \\\n",
       "0  hyundai  sonata  2017  regular_unleaded      185.0               4.0   \n",
       "\n",
       "  transmission_type      driven_wheels  number_of_doors  market_category  \\\n",
       "0         automatic  front_wheel_drive              4.0              NaN   \n",
       "\n",
       "  vehicle_size vehicle_style  highway_mpg  city_mpg  popularity  \n",
       "0      midsize         sedan           36        25        1439  "
      ]
     },
     "execution_count": 133,
     "metadata": {},
     "output_type": "execute_result"
    }
   ],
   "source": [
    "new_car_small = pd.DataFrame([new_car])\n",
    "new_car_small"
   ]
  },
  {
   "cell_type": "code",
   "execution_count": 134,
   "id": "59e88173-867a-4261-804d-4e9c69168fcd",
   "metadata": {},
   "outputs": [],
   "source": [
    "X_small = prepare_X(new_car_small)"
   ]
  },
  {
   "cell_type": "code",
   "execution_count": 135,
   "id": "3f293c91-2ec1-4224-8620-040dfc906544",
   "metadata": {},
   "outputs": [
    {
     "data": {
      "text/plain": [
       "np.float64(10.27711187645744)"
      ]
     },
     "execution_count": 135,
     "metadata": {},
     "output_type": "execute_result"
    }
   ],
   "source": [
    "y_pred = w0 + X_small.dot(w)\n",
    "y_pred = y_pred[0]\n",
    "y_pred"
   ]
  },
  {
   "cell_type": "code",
   "execution_count": 136,
   "id": "cbbff347-599f-419e-9f08-fe581cea265b",
   "metadata": {},
   "outputs": [
    {
     "data": {
      "text/plain": [
       "29058"
      ]
     },
     "execution_count": 136,
     "metadata": {},
     "output_type": "execute_result"
    }
   ],
   "source": [
    "predicted_price = np.expm1(y_pred)\n",
    "predicted_price = int(predicted_price)\n",
    "predicted_price"
   ]
  },
  {
   "cell_type": "code",
   "execution_count": null,
   "id": "46649892-71a6-42ff-ae1d-1c8bd183fac7",
   "metadata": {},
   "outputs": [],
   "source": []
  },
  {
   "cell_type": "markdown",
   "id": "ac50498b-a328-42c7-b75d-fd5379441a50",
   "metadata": {},
   "source": [
    "##### Checking the original price of the car"
   ]
  },
  {
   "cell_type": "code",
   "execution_count": 137,
   "id": "e26914e5-09d0-4b18-a48d-7db0faf6a56c",
   "metadata": {},
   "outputs": [
    {
     "data": {
      "text/plain": [
       "21495"
      ]
     },
     "execution_count": 137,
     "metadata": {},
     "output_type": "execute_result"
    }
   ],
   "source": [
    "original_price = np.expm1(y_test[20])\n",
    "original_price = int(original_price)\n",
    "original_price"
   ]
  },
  {
   "cell_type": "code",
   "execution_count": 138,
   "id": "d7cdec39-c5ac-45fd-aeee-5ce235fe7097",
   "metadata": {},
   "outputs": [
    {
     "name": "stdout",
     "output_type": "stream",
     "text": [
      "The car price is off by 7563\n"
     ]
    }
   ],
   "source": [
    "diff = f\"The car price is off by {predicted_price - original_price}\"\n",
    "print(diff)"
   ]
  },
  {
   "cell_type": "code",
   "execution_count": null,
   "id": "5272d5d2-d045-4101-ab11-fdeed79ec280",
   "metadata": {},
   "outputs": [],
   "source": []
  },
  {
   "cell_type": "markdown",
   "id": "f72a1f09-b608-4a3d-ac7a-d2ce2ef4d5d0",
   "metadata": {},
   "source": [
    "## Summary\n",
    "    - Exploratory Data Analysis - looking at data, finding missing values\n",
    "    - Target variable distribution - long tail => bell shaped curve\n",
    "    - Validation framework: train/val/test split (helps to detect problems)\n",
    "    - Normal equation\n",
    "    - Implemented with numpy\n",
    "    - RMSE to validate the model\n",
    "    - Feature engineering: age, categorical features\n",
    "    - Regularization to resolve numerical instability"
   ]
  }
 ],
 "metadata": {
  "kernelspec": {
   "display_name": "Python 3 (ipykernel)",
   "language": "python",
   "name": "python3"
  },
  "language_info": {
   "codemirror_mode": {
    "name": "ipython",
    "version": 3
   },
   "file_extension": ".py",
   "mimetype": "text/x-python",
   "name": "python",
   "nbconvert_exporter": "python",
   "pygments_lexer": "ipython3",
   "version": "3.12.1"
  }
 },
 "nbformat": 4,
 "nbformat_minor": 5
}
