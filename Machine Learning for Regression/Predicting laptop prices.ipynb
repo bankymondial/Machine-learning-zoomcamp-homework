{
 "cells": [
  {
   "cell_type": "markdown",
   "id": "0d712bf6-65cc-49c9-80ff-64969a2c293a",
   "metadata": {},
   "source": [
    "## Predicting laptop prices"
   ]
  },
  {
   "cell_type": "code",
   "execution_count": 4,
   "id": "fd8790b8-fe87-4180-be51-2164fe34a85d",
   "metadata": {},
   "outputs": [],
   "source": [
    "import pandas as pd\n",
    "import numpy as np"
   ]
  },
  {
   "cell_type": "code",
   "execution_count": null,
   "id": "18382cf4-93c8-472c-b14b-916628656b97",
   "metadata": {},
   "outputs": [],
   "source": []
  }
 ],
 "metadata": {
  "kernelspec": {
   "display_name": "Python 3 (ipykernel)",
   "language": "python",
   "name": "python3"
  },
  "language_info": {
   "codemirror_mode": {
    "name": "ipython",
    "version": 3
   },
   "file_extension": ".py",
   "mimetype": "text/x-python",
   "name": "python",
   "nbconvert_exporter": "python",
   "pygments_lexer": "ipython3",
   "version": "3.12.1"
  }
 },
 "nbformat": 4,
 "nbformat_minor": 5
}
